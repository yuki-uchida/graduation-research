{
 "cells": [
  {
   "cell_type": "code",
   "execution_count": 62,
   "metadata": {},
   "outputs": [],
   "source": [
    "from gensim.models import word2vec\n",
    "\n",
    "model = word2vec.Word2Vec.load(\"./word2vec/model/wiki.model\")\n",
    "test_text = \"学生時代の友人7名で利用させて頂きました\""
   ]
  },
  {
   "cell_type": "code",
   "execution_count": 63,
   "metadata": {
    "collapsed": true
   },
   "outputs": [],
   "source": [
    "import MeCab\n",
    "tagger = MeCab.Tagger('-Owakati')\n",
    "test_text_wakati = tagger.parse(test_text).split(\" \")\n",
    "# test_text_wakati\n",
    "# for str in test_text_wakati:\n",
    "#     print(model['str'])"
   ]
  },
  {
   "cell_type": "code",
   "execution_count": 64,
   "metadata": {
    "collapsed": true
   },
   "outputs": [],
   "source": [
    "import numpy as np\n",
    "import pandas as pd\n",
    "df_data = pd.read_csv(\"./some.csv\",encoding='cp932',header=None)\n",
    "df_data = df_data.drop(0,axis=0).drop(1,axis=1)\n",
    "df_data = df_data.drop(0,axis=1)\n",
    "columns0 = df_data.iloc[0].values\n",
    "columns0 = np.insert(columns0,0,\"keyword\")\n",
    "columns1 = df_data.iloc[1].values\n",
    "columns1 = np.insert(columns1,0,\"keyword\")\n",
    "columns2 = df_data.iloc[2].values\n",
    "columns2 = np.insert(columns2,0,\"keyword\")\n",
    "columns3 = df_data.iloc[3].values\n",
    "columns3 = np.insert(columns3,0,\"keyword\")\n",
    "columns4 = df_data.iloc[4].values\n",
    "columns4 = np.insert(columns4,0,\"keyword\")"
   ]
  },
  {
   "cell_type": "code",
   "execution_count": 65,
   "metadata": {
    "collapsed": true
   },
   "outputs": [],
   "source": [
    "import pandas as pd\n",
    "df = pd.read_csv(\"./kikuchi_sotsuken/finish_info.csv\",header=None)\n",
    "df = df.drop(0,axis=0)\n",
    "df = df.drop([0,1,2,3],axis=1)\n",
    "retu = []\n",
    "for i in range(105):\n",
    "    if (i%2 == 0)and(i >=6):\n",
    "        retu.append(i)\n",
    "df = df.drop(retu,axis=1)\n",
    "columns = []\n",
    "for i in range(51):\n",
    "    if i == 0:\n",
    "        columns.append(\"keyword\")\n",
    "    else:\n",
    "        columns.append(i)\n",
    "df.columns = columns\n",
    "df0 = df[df[\"keyword\"] == \"0\"]\n",
    "df1 = df[df[\"keyword\"] == \"1\"]\n",
    "df2 = df[df[\"keyword\"] == \"2\"]\n",
    "df3 = df[df[\"keyword\"] == \"3\"]\n",
    "df4 = df[df[\"keyword\"] == \"4\"]"
   ]
  },
  {
   "cell_type": "code",
   "execution_count": 66,
   "metadata": {
    "collapsed": true
   },
   "outputs": [],
   "source": [
    "import pandas as pd\n",
    "df = pd.read_csv(\"./kikuchi_sotsuken/finish_2_info.csv\",header=None)\n",
    "df = df.drop(0,axis=0)\n",
    "df = df.drop([0,1,2,3],axis=1)\n",
    "retu = []\n",
    "for i in range(105):\n",
    "    if (i%2 == 0)and(i >=6):\n",
    "        retu.append(i)\n",
    "df = df.drop(retu,axis=1)\n",
    "columns = []\n",
    "for i in range(51):\n",
    "    if i == 0:\n",
    "        columns.append(\"keyword\")\n",
    "    else:\n",
    "        columns.append(i)\n",
    "df.columns = columns\n",
    "df2_0 = df[df[\"keyword\"] == \"0\"]\n",
    "df2_1 = df[df[\"keyword\"] == \"1\"]\n",
    "df2_2 = df[df[\"keyword\"] == \"2\"]\n",
    "df2_3 = df[df[\"keyword\"] == \"3\"]\n",
    "df2_4 = df[df[\"keyword\"] == \"4\"]"
   ]
  },
  {
   "cell_type": "code",
   "execution_count": 67,
   "metadata": {},
   "outputs": [
    {
     "name": "stderr",
     "output_type": "stream",
     "text": [
      "/Users/uchidayuki/Python/lib/python3.6/site-packages/ipykernel_launcher.py:22: SettingWithCopyWarning: \n",
      "A value is trying to be set on a copy of a slice from a DataFrame\n",
      "\n",
      "See the caveats in the documentation: http://pandas.pydata.org/pandas-docs/stable/indexing.html#indexing-view-versus-copy\n",
      "/Users/uchidayuki/Python/lib/python3.6/site-packages/ipykernel_launcher.py:23: SettingWithCopyWarning: \n",
      "A value is trying to be set on a copy of a slice from a DataFrame\n",
      "\n",
      "See the caveats in the documentation: http://pandas.pydata.org/pandas-docs/stable/indexing.html#indexing-view-versus-copy\n"
     ]
    },
    {
     "data": {
      "text/html": [
       "<div>\n",
       "<style>\n",
       "    .dataframe thead tr:only-child th {\n",
       "        text-align: right;\n",
       "    }\n",
       "\n",
       "    .dataframe thead th {\n",
       "        text-align: left;\n",
       "    }\n",
       "\n",
       "    .dataframe tbody tr th {\n",
       "        vertical-align: top;\n",
       "    }\n",
       "</style>\n",
       "<table border=\"1\" class=\"dataframe\">\n",
       "  <thead>\n",
       "    <tr style=\"text-align: right;\">\n",
       "      <th></th>\n",
       "      <th>keyword</th>\n",
       "      <th>1</th>\n",
       "      <th>2</th>\n",
       "      <th>3</th>\n",
       "      <th>4</th>\n",
       "      <th>5</th>\n",
       "      <th>6</th>\n",
       "      <th>7</th>\n",
       "      <th>8</th>\n",
       "      <th>9</th>\n",
       "      <th>...</th>\n",
       "      <th>41</th>\n",
       "      <th>42</th>\n",
       "      <th>43</th>\n",
       "      <th>44</th>\n",
       "      <th>45</th>\n",
       "      <th>46</th>\n",
       "      <th>47</th>\n",
       "      <th>48</th>\n",
       "      <th>49</th>\n",
       "      <th>50</th>\n",
       "    </tr>\n",
       "  </thead>\n",
       "  <tbody>\n",
       "    <tr>\n",
       "      <th>17</th>\n",
       "      <td>2</td>\n",
       "      <td>5</td>\n",
       "      <td>5</td>\n",
       "      <td>3</td>\n",
       "      <td>1</td>\n",
       "      <td>5</td>\n",
       "      <td>5</td>\n",
       "      <td>5</td>\n",
       "      <td>3</td>\n",
       "      <td>5</td>\n",
       "      <td>...</td>\n",
       "      <td>5</td>\n",
       "      <td>5</td>\n",
       "      <td>5</td>\n",
       "      <td>5</td>\n",
       "      <td>5</td>\n",
       "      <td>5</td>\n",
       "      <td>5</td>\n",
       "      <td>5</td>\n",
       "      <td>5</td>\n",
       "      <td>5</td>\n",
       "    </tr>\n",
       "    <tr>\n",
       "      <th>25</th>\n",
       "      <td>2</td>\n",
       "      <td>4</td>\n",
       "      <td>5</td>\n",
       "      <td>3</td>\n",
       "      <td>5</td>\n",
       "      <td>5</td>\n",
       "      <td>4</td>\n",
       "      <td>4</td>\n",
       "      <td>3</td>\n",
       "      <td>3</td>\n",
       "      <td>...</td>\n",
       "      <td>5</td>\n",
       "      <td>5</td>\n",
       "      <td>5</td>\n",
       "      <td>5</td>\n",
       "      <td>5</td>\n",
       "      <td>5</td>\n",
       "      <td>5</td>\n",
       "      <td>5</td>\n",
       "      <td>5</td>\n",
       "      <td>5</td>\n",
       "    </tr>\n",
       "    <tr>\n",
       "      <th>100</th>\n",
       "      <td>2</td>\n",
       "      <td>5</td>\n",
       "      <td>5</td>\n",
       "      <td>4</td>\n",
       "      <td>4</td>\n",
       "      <td>5</td>\n",
       "      <td>4</td>\n",
       "      <td>4</td>\n",
       "      <td>3</td>\n",
       "      <td>1</td>\n",
       "      <td>...</td>\n",
       "      <td>5</td>\n",
       "      <td>3</td>\n",
       "      <td>4</td>\n",
       "      <td>4</td>\n",
       "      <td>5</td>\n",
       "      <td>5</td>\n",
       "      <td>3</td>\n",
       "      <td>3</td>\n",
       "      <td>4</td>\n",
       "      <td>4</td>\n",
       "    </tr>\n",
       "    <tr>\n",
       "      <th>101</th>\n",
       "      <td>2</td>\n",
       "      <td>5</td>\n",
       "      <td>5</td>\n",
       "      <td>4</td>\n",
       "      <td>4</td>\n",
       "      <td>5</td>\n",
       "      <td>4</td>\n",
       "      <td>4</td>\n",
       "      <td>3</td>\n",
       "      <td>1</td>\n",
       "      <td>...</td>\n",
       "      <td>5</td>\n",
       "      <td>3</td>\n",
       "      <td>4</td>\n",
       "      <td>4</td>\n",
       "      <td>5</td>\n",
       "      <td>5</td>\n",
       "      <td>3</td>\n",
       "      <td>3</td>\n",
       "      <td>4</td>\n",
       "      <td>4</td>\n",
       "    </tr>\n",
       "  </tbody>\n",
       "</table>\n",
       "<p>4 rows × 51 columns</p>\n",
       "</div>"
      ],
      "text/plain": [
       "    keyword  1  2  3  4  5  6  7  8  9 ... 41 42 43 44 45 46 47 48 49 50\n",
       "17        2  5  5  3  1  5  5  5  3  5 ...  5  5  5  5  5  5  5  5  5  5\n",
       "25        2  4  5  3  5  5  4  4  3  3 ...  5  5  5  5  5  5  5  5  5  5\n",
       "100       2  5  5  4  4  5  4  4  3  1 ...  5  3  4  4  5  5  3  3  4  4\n",
       "101       2  5  5  4  4  5  4  4  3  1 ...  5  3  4  4  5  5  3  3  4  4\n",
       "\n",
       "[4 rows x 51 columns]"
      ]
     },
     "execution_count": 67,
     "metadata": {},
     "output_type": "execute_result"
    }
   ],
   "source": [
    "import pandas as pd\n",
    "df = pd.read_csv(\"./kikuchi_sotsuken/finish_3_info.csv\",header=None)\n",
    "df = df.drop(0,axis=0)\n",
    "df = df.drop([0,1,2,3],axis=1)\n",
    "retu = []\n",
    "for i in range(105):\n",
    "    if (i%2 == 0)and(i >=6):\n",
    "        retu.append(i)\n",
    "df = df.drop(retu,axis=1)\n",
    "columns = []\n",
    "for i in range(51):\n",
    "    if i == 0:\n",
    "        columns.append(\"keyword\")\n",
    "    else:\n",
    "        columns.append(i)\n",
    "df.columns = columns\n",
    "df3_0 = df[df[\"keyword\"] == \"0\"]\n",
    "df3_1 = df[df[\"keyword\"] == \"1\"]\n",
    "df3_2 = df[df[\"keyword\"] == \"2\"]\n",
    "df3_3 = df[df[\"keyword\"] == \"3\"]\n",
    "df3_4 = df[df[\"keyword\"] == \"4\"]\n",
    "df3_2.loc[100] = [2, 5, 5, 4, 4, 5, 4, 4, 3, 1, 3, 3, 4, 4, 2, 5, 3, 4, 3, 4, 5, 5, 5, 2, 3, 3, 1, 2, 2, 2, 3, 1, 2, 4, 4, 2, 5, 4, 2, 2, 3, 5, 3, 4, 4, 5, 5, 3, 3, 4, 4]\n",
    "df3_2.loc[101] = [2, 5, 5, 4, 4, 5, 4, 4, 3, 1, 3, 3, 4, 4, 2, 5, 3, 4, 3, 4, 5, 5, 5, 2, 3, 3, 1, 2, 2, 2, 3, 1, 2, 4, 4, 2, 5, 4, 2, 2, 3, 5, 3, 4, 4, 5, 5, 3, 3, 4, 4]\n",
    "df3_2"
   ]
  },
  {
   "cell_type": "code",
   "execution_count": 68,
   "metadata": {
    "collapsed": true
   },
   "outputs": [],
   "source": [
    "df0.columns = columns0\n",
    "df1.columns = columns1\n",
    "df2.columns = columns2\n",
    "df3.columns = columns3\n",
    "df4.columns = columns4\n",
    "df2_0.columns = columns0\n",
    "df2_1.columns = columns1\n",
    "df2_2.columns = columns2\n",
    "df2_3.columns = columns3\n",
    "df2_4.columns = columns4\n",
    "df3_0.columns = columns0\n",
    "df3_1.columns = columns1\n",
    "df3_2.columns = columns2\n",
    "df3_3.columns = columns3\n",
    "df3_4.columns = columns4"
   ]
  },
  {
   "cell_type": "code",
   "execution_count": 69,
   "metadata": {
    "collapsed": true
   },
   "outputs": [],
   "source": [
    "# df0"
   ]
  },
  {
   "cell_type": "markdown",
   "metadata": {},
   "source": [
    "## 連結"
   ]
  },
  {
   "cell_type": "code",
   "execution_count": 70,
   "metadata": {
    "collapsed": true
   },
   "outputs": [],
   "source": [
    "result_df0 = pd.concat([df0, df2_0, df3_0]).drop(\"keyword\",axis=1).reset_index(drop=True).astype(np.int64)\n",
    "result_df1 = pd.concat([df1, df2_1, df3_1]).drop(\"keyword\",axis=1).reset_index(drop=True).astype(np.int64)\n",
    "result_df2 = pd.concat([df2, df2_2, df3_2]).drop(\"keyword\",axis=1).reset_index(drop=True).astype(np.int64)\n",
    "result_df3 = pd.concat([df3, df2_3, df3_3]).drop(\"keyword\",axis=1).reset_index(drop=True).astype(np.int64)\n",
    "result_df4 = pd.concat([df4, df2_4, df3_4]).drop(\"keyword\",axis=1).reset_index(drop=True).astype(np.int64)"
   ]
  },
  {
   "cell_type": "markdown",
   "metadata": {},
   "source": [
    "## 平均・分散算出"
   ]
  },
  {
   "cell_type": "code",
   "execution_count": 71,
   "metadata": {},
   "outputs": [
    {
     "data": {
      "text/html": [
       "<div>\n",
       "<style>\n",
       "    .dataframe thead tr:only-child th {\n",
       "        text-align: right;\n",
       "    }\n",
       "\n",
       "    .dataframe thead th {\n",
       "        text-align: left;\n",
       "    }\n",
       "\n",
       "    .dataframe tbody tr th {\n",
       "        vertical-align: top;\n",
       "    }\n",
       "</style>\n",
       "<table border=\"1\" class=\"dataframe\">\n",
       "  <thead>\n",
       "    <tr style=\"text-align: right;\">\n",
       "      <th></th>\n",
       "      <th>子ども用のスリッパが置いてあるとありがたいです</th>\n",
       "      <th>始めて、家族風呂を利用させて貰いましたが、清潔でとても気持ち良かったです</th>\n",
       "      <th>ご飯もとても美味しく、いつもは小食の子どももたくさん食べました</th>\n",
       "      <th>フロントさんやスタッフさんもとても親切で、楽しい家族旅行となりました</th>\n",
       "      <th>梅雨時の大雨の真っ最中、部屋は山側でしたが多分海側だとしても霧がすごかったのでどっちでも同じだったと思います</th>\n",
       "      <th>低階層とのことでしたが、グレードアップしていただいたのでしょうか、高階層でした</th>\n",
       "      <th>でも外の景色を堪能出来ないほど遊び疲れました（笑）霧がだいぶ深いせいか、却ってアクアガーデンのショーは綺麗に見えました</th>\n",
       "      <th>梅雨時は人も少なく、でも遊ぶのは屋内だし、棚湯も雨でもさほど気になりませんでした</th>\n",
       "      <th>思った以上に外国人スタッフが多く、海外から来る人には馴染みやすいのかもですね</th>\n",
       "      <th>開放的な三角の屋根の天井で、ログハウスを満喫できます。</th>\n",
       "      <th>...</th>\n",
       "      <th>新潟方面を回ってやってきて用向きは渋谷、帰宅は羽田だったので地理的に品川が便利で決めています</th>\n",
       "      <th>せっかくのマッサージチェアでしたが、なんとなく使いませんでした</th>\n",
       "      <th>丁度台風接近の最中お手数おかけしましたが、こちらに宿泊出来たこととても感謝しています</th>\n",
       "      <th>私も機会がありましたら是非とも利用させて頂きたいと思いました</th>\n",
       "      <th>また利用したいと思える素晴らしいホテルでした</th>\n",
       "      <th>立地も良く、サービスも良く、店内のレストランやコンビニもOK</th>\n",
       "      <th>快適に宿泊させて頂きましたが・・・部屋に携帯の充電器を忘れてたと思いますが？また、連絡をさせて頂きます</th>\n",
       "      <th>いつも出張で宿泊していて素晴らしいので、今回は都内に住む孫と会うために利用しました</th>\n",
       "      <th>チェックインの時に、孫のためにタオルもご用意いただき、そのご配慮に感動しました</th>\n",
       "      <th>部屋からの眺望も素晴らしく、孫はずっと外を見てました</th>\n",
       "    </tr>\n",
       "  </thead>\n",
       "  <tbody>\n",
       "    <tr>\n",
       "      <th>mean</th>\n",
       "      <td>2.7</td>\n",
       "      <td>4.7</td>\n",
       "      <td>4.6</td>\n",
       "      <td>4.7</td>\n",
       "      <td>3.9</td>\n",
       "      <td>4.0</td>\n",
       "      <td>4.4</td>\n",
       "      <td>4.3</td>\n",
       "      <td>3.5</td>\n",
       "      <td>2.8</td>\n",
       "      <td>...</td>\n",
       "      <td>3.1</td>\n",
       "      <td>3.2</td>\n",
       "      <td>3.8</td>\n",
       "      <td>2.4</td>\n",
       "      <td>4.0</td>\n",
       "      <td>3.1</td>\n",
       "      <td>3.6</td>\n",
       "      <td>3.8</td>\n",
       "      <td>4.2</td>\n",
       "      <td>4.2</td>\n",
       "    </tr>\n",
       "    <tr>\n",
       "      <th>std</th>\n",
       "      <td>1.4</td>\n",
       "      <td>0.8</td>\n",
       "      <td>1.1</td>\n",
       "      <td>0.8</td>\n",
       "      <td>1.0</td>\n",
       "      <td>1.0</td>\n",
       "      <td>1.1</td>\n",
       "      <td>0.8</td>\n",
       "      <td>0.9</td>\n",
       "      <td>1.3</td>\n",
       "      <td>...</td>\n",
       "      <td>1.1</td>\n",
       "      <td>1.2</td>\n",
       "      <td>0.9</td>\n",
       "      <td>1.4</td>\n",
       "      <td>0.6</td>\n",
       "      <td>1.3</td>\n",
       "      <td>1.2</td>\n",
       "      <td>1.1</td>\n",
       "      <td>1.1</td>\n",
       "      <td>1.2</td>\n",
       "    </tr>\n",
       "  </tbody>\n",
       "</table>\n",
       "<p>2 rows × 50 columns</p>\n",
       "</div>"
      ],
      "text/plain": [
       "      子ども用のスリッパが置いてあるとありがたいです  始めて、家族風呂を利用させて貰いましたが、清潔でとても気持ち良かったです  \\\n",
       "mean                      2.7                                   4.7   \n",
       "std                       1.4                                   0.8   \n",
       "\n",
       "      ご飯もとても美味しく、いつもは小食の子どももたくさん食べました  フロントさんやスタッフさんもとても親切で、楽しい家族旅行となりました  \\\n",
       "mean                              4.6                                 4.7   \n",
       "std                               1.1                                 0.8   \n",
       "\n",
       "      梅雨時の大雨の真っ最中、部屋は山側でしたが多分海側だとしても霧がすごかったのでどっちでも同じだったと思います  \\\n",
       "mean                                                3.9        \n",
       "std                                                 1.0        \n",
       "\n",
       "      低階層とのことでしたが、グレードアップしていただいたのでしょうか、高階層でした  \\\n",
       "mean                                      4.0   \n",
       "std                                       1.0   \n",
       "\n",
       "      でも外の景色を堪能出来ないほど遊び疲れました（笑）霧がだいぶ深いせいか、却ってアクアガーデンのショーは綺麗に見えました  \\\n",
       "mean                                                4.4             \n",
       "std                                                 1.1             \n",
       "\n",
       "      梅雨時は人も少なく、でも遊ぶのは屋内だし、棚湯も雨でもさほど気になりませんでした  \\\n",
       "mean                                       4.3   \n",
       "std                                        0.8   \n",
       "\n",
       "      思った以上に外国人スタッフが多く、海外から来る人には馴染みやすいのかもですね  開放的な三角の屋根の天井で、ログハウスを満喫できます。   \\\n",
       "mean                                     3.5                           2.8   \n",
       "std                                      0.9                           1.3   \n",
       "\n",
       "                 ...              \\\n",
       "mean             ...               \n",
       "std              ...               \n",
       "\n",
       "      新潟方面を回ってやってきて用向きは渋谷、帰宅は羽田だったので地理的に品川が便利で決めています  \\\n",
       "mean                                             3.1   \n",
       "std                                              1.1   \n",
       "\n",
       "      せっかくのマッサージチェアでしたが、なんとなく使いませんでした  \\\n",
       "mean                              3.2   \n",
       "std                               1.2   \n",
       "\n",
       "      丁度台風接近の最中お手数おかけしましたが、こちらに宿泊出来たこととても感謝しています  \\\n",
       "mean                                         3.8   \n",
       "std                                          0.9   \n",
       "\n",
       "      私も機会がありましたら是非とも利用させて頂きたいと思いました  また利用したいと思える素晴らしいホテルでした  \\\n",
       "mean                             2.4                     4.0   \n",
       "std                              1.4                     0.6   \n",
       "\n",
       "      立地も良く、サービスも良く、店内のレストランやコンビニもOK  \\\n",
       "mean                             3.1   \n",
       "std                              1.3   \n",
       "\n",
       "      快適に宿泊させて頂きましたが・・・部屋に携帯の充電器を忘れてたと思いますが？また、連絡をさせて頂きます  \\\n",
       "mean                                                3.6     \n",
       "std                                                 1.2     \n",
       "\n",
       "      いつも出張で宿泊していて素晴らしいので、今回は都内に住む孫と会うために利用しました  \\\n",
       "mean                                        3.8   \n",
       "std                                         1.1   \n",
       "\n",
       "      チェックインの時に、孫のためにタオルもご用意いただき、そのご配慮に感動しました  部屋からの眺望も素晴らしく、孫はずっと外を見てました  \n",
       "mean                                      4.2                         4.2  \n",
       "std                                       1.1                         1.2  \n",
       "\n",
       "[2 rows x 50 columns]"
      ]
     },
     "execution_count": 71,
     "metadata": {},
     "output_type": "execute_result"
    }
   ],
   "source": [
    "result_df0_mean = pd.DataFrame(result_df0.mean()).T.round(1)\n",
    "result_df1_mean = pd.DataFrame(result_df1.mean()).T.round(1)\n",
    "result_df2_mean = pd.DataFrame(result_df2.mean()).T.round(1)\n",
    "result_df3_mean = pd.DataFrame(result_df3.mean()).T.round(1)\n",
    "result_df4_mean = pd.DataFrame(result_df4.mean()).T.round(1)\n",
    "\n",
    "keyword0_mean = pd.DataFrame(result_df0.mean().round(1)).T\n",
    "keyword0_std = pd.DataFrame(result_df0.std().round(1)).T\n",
    "keyword1_mean = pd.DataFrame(result_df1.mean().round(1)).T\n",
    "keyword1_std = pd.DataFrame(result_df1.std().round(1)).T\n",
    "keyword2_mean = pd.DataFrame(result_df2.mean().round(1)).T\n",
    "keyword2_std = pd.DataFrame(result_df2.std().round(1)).T\n",
    "keyword3_mean = pd.DataFrame(result_df3.mean().round(1)).T\n",
    "keyword3_std = pd.DataFrame(result_df3.std().round(1)).T\n",
    "keyword4_mean = pd.DataFrame(result_df4.mean().round(1)).T\n",
    "keyword4_std = pd.DataFrame(result_df4.std().round(1)).T\n",
    "\n",
    "\n",
    "keyword0 = pd.concat([keyword0_mean,keyword0_std])\n",
    "keyword0.index = [\"mean\", \"std\"]\n",
    "\n",
    "keyword1 = pd.concat([keyword1_mean,keyword1_std])\n",
    "keyword1.index = [\"mean\", \"std\"]\n",
    "\n",
    "keyword2 = pd.concat([keyword2_mean,keyword2_std])\n",
    "keyword2.index = [\"mean\", \"std\"]\n",
    "\n",
    "keyword3 = pd.concat([keyword3_mean,keyword3_std])\n",
    "keyword3.index = [\"mean\", \"std\"]\n",
    "\n",
    "keyword4 = pd.concat([keyword4_mean,keyword4_std])\n",
    "keyword4.index = [\"mean\", \"std\"]\n",
    "\n",
    "keyword1"
   ]
  },
  {
   "cell_type": "markdown",
   "metadata": {},
   "source": [
    "## 経験談文章2つめ\n"
   ]
  },
  {
   "cell_type": "code",
   "execution_count": 430,
   "metadata": {},
   "outputs": [],
   "source": [
    "import numpy as np\n",
    "import pandas as pd\n",
    "df_data = pd.read_csv(\"./some20181105.csv\",encoding='cp932',header=None)\n",
    "df_data = df_data.drop(0,axis=0).drop(1,axis=1)\n",
    "df_data = df_data.drop(0,axis=1)\n",
    "columns0 = df_data.iloc[0].values\n",
    "columns0 = np.insert(columns0,0,\"keyword\")\n",
    "columns1 = df_data.iloc[1].values\n",
    "columns1 = np.insert(columns1,0,\"keyword\")\n",
    "columns2 = df_data.iloc[2].values"
   ]
  },
  {
   "cell_type": "code",
   "execution_count": null,
   "metadata": {
    "collapsed": true
   },
   "outputs": [],
   "source": [
    "import pandas as pd\n",
    "df = pd.read_csv(\"./kikuchi_sotsuken/finish_info_2_1.csv\",header=None)\n",
    "df = df.drop(0,axis=0)\n",
    "df = df.drop([0,1,2,3],axis=1)\n",
    "retu = []\n",
    "for i in range(105):\n",
    "    if (i%2 == 0)and(i >=6):\n",
    "        retu.append(i)\n",
    "df = df.drop(retu,axis=1)\n",
    "columns = []\n",
    "for i in range(51):\n",
    "    if i == 0:\n",
    "        columns.append(\"keyword\")\n",
    "    else:\n",
    "        columns.append(i)\n",
    "df.columns = columns\n",
    "df0 = df[df[\"keyword\"] == \"0\"]\n",
    "df1 = df[df[\"keyword\"] == \"1\"]\n",
    "df2 = df[df[\"keyword\"] == \"2\"]\n",
    "df3 = df[df[\"keyword\"] == \"3\"]\n",
    "df4 = df[df[\"keyword\"] == \"4\"]"
   ]
  },
  {
   "cell_type": "markdown",
   "metadata": {},
   "source": [
    "## 分かち書き"
   ]
  },
  {
   "cell_type": "code",
   "execution_count": 413,
   "metadata": {
    "collapsed": true
   },
   "outputs": [],
   "source": [
    "import MeCab\n",
    "import re\n",
    "\n",
    "def tokenize(text):\n",
    "    wakati = MeCab.Tagger(\"-O wakati\")\n",
    "    wakati.parse(\"\")\n",
    "    words = wakati.parse(text)\n",
    "\n",
    "    # Make word list\n",
    "    if words[-1] == u\"\\n\":\n",
    "        words = words[:-1]\n",
    "\n",
    "    return words"
   ]
  },
  {
   "cell_type": "code",
   "execution_count": 414,
   "metadata": {
    "collapsed": true
   },
   "outputs": [],
   "source": [
    "samples0 = df0.columns[1:]\n",
    "texts0 = [tokenize(a) for a in samples0]\n",
    "samples1 = df1.columns[1:]\n",
    "texts1 = [tokenize(a) for a in samples1]\n",
    "samples2 = df2.columns[1:]\n",
    "texts2 = [tokenize(a) for a in samples2]\n",
    "samples3 = df3.columns[1:]\n",
    "texts3 = [tokenize(a) for a in samples3]\n",
    "samples4 = df4.columns[1:]\n",
    "texts4 = [tokenize(a) for a in samples4]\n"
   ]
  },
  {
   "cell_type": "code",
   "execution_count": 415,
   "metadata": {
    "collapsed": true
   },
   "outputs": [],
   "source": [
    "from gensim.models import word2vec\n",
    "\n",
    "model = word2vec.Word2Vec.load(\"./word2vec/model/wiki.model\")\n",
    "\n",
    "\n",
    "from Ocab import Ocab, Regexp\n",
    "c = Regexp()\n",
    "m = Ocab(target=[\"名詞\",\"動詞\",\"形容詞\",\"副詞\"])\n"
   ]
  },
  {
   "cell_type": "code",
   "execution_count": 416,
   "metadata": {
    "collapsed": true
   },
   "outputs": [],
   "source": [
    "# unknown_token = np.random.randint(-1, 1, (200, 1))  #\n",
    "unknown_token = np.random.random_sample(200)\n",
    "word2vec_array0 = []\n",
    "for str in texts0:\n",
    "    word_vectors = []\n",
    "    for char in m.removeStoplist(str, []).split(\" \"):\n",
    "        try:\n",
    "            word_vectors.append(model[char])\n",
    "#             print('#{0}ok'.format(char))\n",
    "        except KeyError:\n",
    "#             print('#{0}vocabularry error'.format(char))\n",
    "            for c in tokenize(char).split(\" \"):\n",
    "                try:\n",
    "                    word_vectors.append(model[c])\n",
    "#                     print('#{0}ok'.format(c))\n",
    "                except KeyError:\n",
    "                    word_vectors.append(unknown_token)\n",
    "#                     print('#{0}vocabularry error'.format(c))\n",
    "    word2vec_array0.append(word_vectors)\n",
    "\n",
    "word2vec_array1 = []\n",
    "for str in texts1:\n",
    "    word_vectors = []\n",
    "    for char in m.removeStoplist(str, []).split(\" \"):\n",
    "        try:\n",
    "            word_vectors.append(model[char])\n",
    "#             print('#{0}ok'.format(char))\n",
    "        except KeyError:\n",
    "#             print('#{0}vocabularry error'.format(char))\n",
    "            for c in tokenize(char).split(\" \"):\n",
    "                try:\n",
    "                    word_vectors.append(model[c])\n",
    "#                     print('#{0}ok'.format(c))\n",
    "                except KeyError:\n",
    "                    word_vectors.append(unknown_token)\n",
    "#                     print('#{0}vocabularry error'.format(c))\n",
    "    word2vec_array1.append(word_vectors)\n",
    "\n",
    "word2vec_array2 = []\n",
    "for str in texts2:\n",
    "    word_vectors = []\n",
    "    for char in m.removeStoplist(str, []).split(\" \"):\n",
    "        try:\n",
    "            word_vectors.append(model[char])\n",
    "#             print('#{0}ok'.format(char))\n",
    "        except KeyError:\n",
    "#             print('#{0}vocabularry error'.format(char))\n",
    "            for c in tokenize(char).split(\" \"):\n",
    "                try:\n",
    "                    word_vectors.append(model[c])\n",
    "#                     print('#{0}ok'.format(c))\n",
    "                except KeyError:\n",
    "                    word_vectors.append(unknown_token)\n",
    "#                     print('#{0}vocabularry error'.format(c))\n",
    "    word2vec_array2.append(word_vectors)\n",
    "\n",
    "word2vec_array3 = []\n",
    "for str in texts3:\n",
    "    word_vectors = []\n",
    "    for char in m.removeStoplist(str, []).split(\" \"):\n",
    "        try:\n",
    "            word_vectors.append(model[char])\n",
    "#             print('#{0}ok'.format(char))\n",
    "        except KeyError:\n",
    "#             print('#{0}vocabularry error'.format(char))\n",
    "            for c in tokenize(char).split(\" \"):\n",
    "                try:\n",
    "                    word_vectors.append(model[c])\n",
    "#                     print('#{0}ok'.format(c))\n",
    "                except KeyError:\n",
    "                    word_vectors.append(unknown_token)\n",
    "#                     print('#{0}vocabularry error'.format(c))\n",
    "    word2vec_array3.append(word_vectors)\n",
    "\n",
    "\n",
    "word2vec_array4 = []\n",
    "for str in texts4:\n",
    "    word_vectors = []\n",
    "    for char in m.removeStoplist(str, []).split(\" \"):\n",
    "        try:\n",
    "            word_vectors.append(model[char])\n",
    "#             print('#{0}ok'.format(char))\n",
    "        except KeyError:\n",
    "#             print('#{0}vocabularry error'.format(char))\n",
    "            for c in tokenize(char).split(\" \"):\n",
    "                try:\n",
    "                    word_vectors.append(model[c])\n",
    "#                     print('#{0}ok'.format(c))\n",
    "                except KeyError:\n",
    "                    word_vectors.append(unknown_token)\n",
    "#                     print('#{0}vocabularry error'.format(c))\n",
    "    word2vec_array4.append(word_vectors)\n",
    "\n",
    "\n",
    "\n",
    "    \n",
    "\n"
   ]
  },
  {
   "cell_type": "code",
   "execution_count": 417,
   "metadata": {
    "collapsed": true
   },
   "outputs": [],
   "source": [
    "# unknown_token = np.random.randint(-1, 1, (200, 1))  #\n",
    "# word2vec_array0 = []\n",
    "# for str in texts0:\n",
    "#     word_vectors = []\n",
    "#     for char in m.removeStoplist(str, []).split(\" \"):\n",
    "#         try:\n",
    "#             word_vectors.append(model[char])\n",
    "# #             print('#{0}ok'.format(char))\n",
    "#         except KeyError:\n",
    "# #             print('#{0}vocabularry error'.format(char))\n",
    "#             for c in tokenize(char).split(\" \"):\n",
    "#                 try:\n",
    "#                     word_vectors.append(model[c])\n",
    "# #                     print('#{0}ok'.format(c))\n",
    "#                 except KeyError:\n",
    "#                     word_vectors.append(np.random.random_sample(200))\n",
    "# #                     print('#{0}vocabularry error'.format(c))\n",
    "#     word2vec_array0.append(word_vectors)\n",
    "\n",
    "# word2vec_array1 = []\n",
    "# for str in texts1:\n",
    "#     word_vectors = []\n",
    "#     for char in m.removeStoplist(str, []).split(\" \"):\n",
    "#         try:\n",
    "#             word_vectors.append(model[char])\n",
    "# #             print('#{0}ok'.format(char))\n",
    "#         except KeyError:\n",
    "# #             print('#{0}vocabularry error'.format(char))\n",
    "#             for c in tokenize(char).split(\" \"):\n",
    "#                 try:\n",
    "#                     word_vectors.append(model[c])\n",
    "# #                     print('#{0}ok'.format(c))\n",
    "#                 except KeyError:\n",
    "#                     word_vectors.append(np.random.random_sample(200))\n",
    "# #                     print('#{0}vocabularry error'.format(c))\n",
    "#     word2vec_array1.append(word_vectors)\n",
    "\n",
    "# word2vec_array2 = []\n",
    "# for str in texts2:\n",
    "#     word_vectors = []\n",
    "#     for char in m.removeStoplist(str, []).split(\" \"):\n",
    "#         try:\n",
    "#             word_vectors.append(model[char])\n",
    "# #             print('#{0}ok'.format(char))\n",
    "#         except KeyError:\n",
    "# #             print('#{0}vocabularry error'.format(char))\n",
    "#             for c in tokenize(char).split(\" \"):\n",
    "#                 try:\n",
    "#                     word_vectors.append(model[c])\n",
    "# #                     print('#{0}ok'.format(c))\n",
    "#                 except KeyError:\n",
    "#                     word_vectors.append(np.random.random_sample(200))\n",
    "# #                     print('#{0}vocabularry error'.format(c))\n",
    "#     word2vec_array2.append(word_vectors)\n",
    "\n",
    "# word2vec_array3 = []\n",
    "# for str in texts3:\n",
    "#     word_vectors = []\n",
    "#     for char in m.removeStoplist(str, []).split(\" \"):\n",
    "#         try:\n",
    "#             word_vectors.append(model[char])\n",
    "# #             print('#{0}ok'.format(char))\n",
    "#         except KeyError:\n",
    "# #             print('#{0}vocabularry error'.format(char))\n",
    "#             for c in tokenize(char).split(\" \"):\n",
    "#                 try:\n",
    "#                     word_vectors.append(model[c])\n",
    "# #                     print('#{0}ok'.format(c))\n",
    "#                 except KeyError:\n",
    "#                     word_vectors.append(np.random.random_sample(200))\n",
    "# #                     print('#{0}vocabularry error'.format(c))\n",
    "#     word2vec_array3.append(word_vectors)\n",
    "\n",
    "\n",
    "# word2vec_array4 = []\n",
    "# for str in texts4:\n",
    "#     word_vectors = []\n",
    "#     for char in m.removeStoplist(str, []).split(\" \"):\n",
    "#         try:\n",
    "#             word_vectors.append(model[char])\n",
    "# #             print('#{0}ok'.format(char))\n",
    "#         except KeyError:\n",
    "# #             print('#{0}vocabularry error'.format(char))\n",
    "#             for c in tokenize(char).split(\" \"):\n",
    "#                 try:\n",
    "#                     word_vectors.append(model[c])\n",
    "# #                     print('#{0}ok'.format(c))\n",
    "#                 except KeyError:\n",
    "#                     word_vectors.append(np.random.random_sample(200))\n",
    "# #                     print('#{0}vocabularry error'.format(c))\n",
    "#     word2vec_array4.append(word_vectors)\n",
    "\n"
   ]
  },
  {
   "cell_type": "code",
   "execution_count": 418,
   "metadata": {},
   "outputs": [
    {
     "data": {
      "text/html": [
       "<div>\n",
       "<style>\n",
       "    .dataframe thead tr:only-child th {\n",
       "        text-align: right;\n",
       "    }\n",
       "\n",
       "    .dataframe thead th {\n",
       "        text-align: left;\n",
       "    }\n",
       "\n",
       "    .dataframe tbody tr th {\n",
       "        vertical-align: top;\n",
       "    }\n",
       "</style>\n",
       "<table border=\"1\" class=\"dataframe\">\n",
       "  <thead>\n",
       "    <tr style=\"text-align: right;\">\n",
       "      <th></th>\n",
       "      <th>久しぶりのお泊りディズニーで利用させていただきましたがほんとにお手頃な価格で、それだけで満足でした</th>\n",
       "      <th>女性の方でも安心です</th>\n",
       "      <th>2人での利用なのでお部屋もお広く清潔感もありゆったりと過ごすことができました、また利用させていただきたいと思います</th>\n",
       "      <th>当日、禁煙ルームへの変更をお願いしたところ12階にあるとても広い部屋に案内していただきました</th>\n",
       "      <th>キングサイズのベット、リビングルーム、トイレ、テレビも二ヶ所あり、大満足でした</th>\n",
       "      <th>毎月２日間、友人とディズニーを楽しんでおります</th>\n",
       "      <th>ホテルまでは駅からも徒歩で５分くらい行けるので便利です</th>\n",
       "      <th>送迎バスも有るので当日の疲れ具合や天候を加味して利用しております</th>\n",
       "      <th>ホテル内にコンビニも有るのでお水等を購入することも出来て便利です</th>\n",
       "      <th>今回はスタンダードの予約でしたが…キャンセルが出たようでグレードアップしていただきました</th>\n",
       "      <th>...</th>\n",
       "      <th>部屋の広さは  トランクも広げられて  ちょうど よいですね！</th>\n",
       "      <th>部屋も広く、パークが一望できるお部屋にしていただきました</th>\n",
       "      <th>とても綺麗でゆっくりできたのでまた利用したいです！</th>\n",
       "      <th>舞浜駅に行くには20分おきに無料バスがでていて便利でした</th>\n",
       "      <th>前から予約させてもらってたからか豪華なお部屋になってて嬉しかったです！</th>\n",
       "      <th>リーズナブルな価格で泊まれてとても満足です</th>\n",
       "      <th>立地がよく、電車で降りてから荷物を預けてユニバに行けたのがとても便利でした</th>\n",
       "      <th>ホテルのシャンプー、リンスも使い心地が良くてよかったです</th>\n",
       "      <th>チェックアウト後に朝からusjに行きました</th>\n",
       "      <th>荷物をロッカーに預けなければならず、探しに行こうと思っていたところ、チェックアウトしたにも関わらず、無料で預かってくれてとても助かりました</th>\n",
       "    </tr>\n",
       "  </thead>\n",
       "  <tbody>\n",
       "    <tr>\n",
       "      <th>mean</th>\n",
       "      <td>4.7</td>\n",
       "      <td>2.8</td>\n",
       "      <td>4.7</td>\n",
       "      <td>4.8</td>\n",
       "      <td>4.8</td>\n",
       "      <td>3.7</td>\n",
       "      <td>3.2</td>\n",
       "      <td>3.7</td>\n",
       "      <td>3.8</td>\n",
       "      <td>4.3</td>\n",
       "      <td>...</td>\n",
       "      <td>3.6</td>\n",
       "      <td>4.1</td>\n",
       "      <td>4.3</td>\n",
       "      <td>4.3</td>\n",
       "      <td>4.4</td>\n",
       "      <td>4.2</td>\n",
       "      <td>4.4</td>\n",
       "      <td>4.6</td>\n",
       "      <td>4.1</td>\n",
       "      <td>4.8</td>\n",
       "    </tr>\n",
       "    <tr>\n",
       "      <th>std</th>\n",
       "      <td>0.5</td>\n",
       "      <td>0.9</td>\n",
       "      <td>0.5</td>\n",
       "      <td>0.4</td>\n",
       "      <td>0.4</td>\n",
       "      <td>1.1</td>\n",
       "      <td>0.8</td>\n",
       "      <td>1.1</td>\n",
       "      <td>1.1</td>\n",
       "      <td>0.8</td>\n",
       "      <td>...</td>\n",
       "      <td>1.2</td>\n",
       "      <td>0.8</td>\n",
       "      <td>1.0</td>\n",
       "      <td>0.7</td>\n",
       "      <td>1.0</td>\n",
       "      <td>1.0</td>\n",
       "      <td>1.0</td>\n",
       "      <td>0.7</td>\n",
       "      <td>1.1</td>\n",
       "      <td>0.4</td>\n",
       "    </tr>\n",
       "  </tbody>\n",
       "</table>\n",
       "<p>2 rows × 50 columns</p>\n",
       "</div>"
      ],
      "text/plain": [
       "      久しぶりのお泊りディズニーで利用させていただきましたがほんとにお手頃な価格で、それだけで満足でした  女性の方でも安心です  \\\n",
       "mean                                                4.7         2.8   \n",
       "std                                                 0.5         0.9   \n",
       "\n",
       "      2人での利用なのでお部屋もお広く清潔感もありゆったりと過ごすことができました、また利用させていただきたいと思います  \\\n",
       "mean                                                4.7           \n",
       "std                                                 0.5           \n",
       "\n",
       "      当日、禁煙ルームへの変更をお願いしたところ12階にあるとても広い部屋に案内していただきました  \\\n",
       "mean                                             4.8   \n",
       "std                                              0.4   \n",
       "\n",
       "      キングサイズのベット、リビングルーム、トイレ、テレビも二ヶ所あり、大満足でした  毎月２日間、友人とディズニーを楽しんでおります  \\\n",
       "mean                                      4.8                      3.7   \n",
       "std                                       0.4                      1.1   \n",
       "\n",
       "      ホテルまでは駅からも徒歩で５分くらい行けるので便利です  送迎バスも有るので当日の疲れ具合や天候を加味して利用しております  \\\n",
       "mean                          3.2                               3.7   \n",
       "std                           0.8                               1.1   \n",
       "\n",
       "      ホテル内にコンビニも有るのでお水等を購入することも出来て便利です  \\\n",
       "mean                               3.8   \n",
       "std                                1.1   \n",
       "\n",
       "      今回はスタンダードの予約でしたが…キャンセルが出たようでグレードアップしていただきました  \\\n",
       "mean                                           4.3   \n",
       "std                                            0.8   \n",
       "\n",
       "                                      ...                                    \\\n",
       "mean                                  ...                                     \n",
       "std                                   ...                                     \n",
       "\n",
       "      部屋の広さは  トランクも広げられて  ちょうど よいですね！   部屋も広く、パークが一望できるお部屋にしていただきました  \\\n",
       "mean                               3.6                           4.1   \n",
       "std                                1.2                           0.8   \n",
       "\n",
       "      とても綺麗でゆっくりできたのでまた利用したいです！  舞浜駅に行くには20分おきに無料バスがでていて便利でした  \\\n",
       "mean                        4.3                           4.3   \n",
       "std                         1.0                           0.7   \n",
       "\n",
       "      前から予約させてもらってたからか豪華なお部屋になってて嬉しかったです！  リーズナブルな価格で泊まれてとても満足です  \\\n",
       "mean                                  4.4                    4.2   \n",
       "std                                   1.0                    1.0   \n",
       "\n",
       "      立地がよく、電車で降りてから荷物を預けてユニバに行けたのがとても便利でした  ホテルのシャンプー、リンスも使い心地が良くてよかったです  \\\n",
       "mean                                    4.4                           4.6   \n",
       "std                                     1.0                           0.7   \n",
       "\n",
       "      チェックアウト後に朝からusjに行きました  \\\n",
       "mean                    4.1   \n",
       "std                     1.1   \n",
       "\n",
       "      荷物をロッカーに預けなければならず、探しに行こうと思っていたところ、チェックアウトしたにも関わらず、無料で預かってくれてとても助かりました  \n",
       "mean                                                4.8                      \n",
       "std                                                 0.4                      \n",
       "\n",
       "[2 rows x 50 columns]"
      ]
     },
     "execution_count": 418,
     "metadata": {},
     "output_type": "execute_result"
    }
   ],
   "source": [
    "##これが文章ベクトル 入力データ\n",
    "word2vec_array0\n",
    "word2vec_array1\n",
    "word2vec_array2\n",
    "word2vec_array3\n",
    "word2vec_array4\n",
    "##これが正解データ\n",
    "keyword0\n",
    "keyword1\n",
    "keyword2\n",
    "keyword3\n",
    "keyword4\n",
    "\n",
    "keyword4"
   ]
  },
  {
   "cell_type": "markdown",
   "metadata": {},
   "source": [
    "## [文章ベクトル,正解データ]"
   ]
  },
  {
   "cell_type": "code",
   "execution_count": 419,
   "metadata": {},
   "outputs": [
    {
     "name": "stdout",
     "output_type": "stream",
     "text": [
      "250\n"
     ]
    }
   ],
   "source": [
    "data = [[],[],[]]\n",
    "for vec, label, row in zip(word2vec_array0, keyword0.loc[\"mean\"].values, samples0):\n",
    "    data[0].append(np.array(vec))\n",
    "    data[1].append(label)\n",
    "    data[2].append(row)\n",
    "for vec, label, row in zip(word2vec_array1, keyword1.loc[\"mean\"].values, samples1):\n",
    "    data[0].append(np.array(vec))\n",
    "    data[1].append(label)\n",
    "    data[2].append(row)\n",
    "for vec, label, row in zip(word2vec_array2, keyword2.loc[\"mean\"].values, samples2):\n",
    "    data[0].append(np.array(vec))\n",
    "    data[1].append(label)\n",
    "    data[2].append(row)\n",
    "for vec, label, row in zip(word2vec_array3, keyword3.loc[\"mean\"].values, samples3):\n",
    "    data[0].append(np.array(vec))\n",
    "    data[1].append(label)\n",
    "    data[2].append(row)\n",
    "for vec, label, row in zip(word2vec_array4, keyword4.loc[\"mean\"].values, samples4):\n",
    "    data[0].append(np.array(vec))\n",
    "    data[1].append(label)\n",
    "    data[2].append(row)\n",
    "print(len(data[2]))"
   ]
  },
  {
   "cell_type": "code",
   "execution_count": 420,
   "metadata": {
    "collapsed": true
   },
   "outputs": [],
   "source": [
    "# for vector in data[0]:\n",
    "#     print(vector)"
   ]
  },
  {
   "cell_type": "markdown",
   "metadata": {},
   "source": [
    "## 入力長は25に決める"
   ]
  },
  {
   "cell_type": "code",
   "execution_count": 421,
   "metadata": {
    "collapsed": true
   },
   "outputs": [],
   "source": [
    "input_length = 25\n",
    "input_data = []\n",
    "for vector in data[0]:\n",
    "    context_vectors = vector\n",
    "    while(len(context_vectors)<input_length):\n",
    "        context_vectors = np.append(context_vectors,[np.full(200,-1)], axis=0)\n",
    "#     print(context_vectors)\n",
    "    input_data.append(context_vectors)\n",
    "output_data = data[1]"
   ]
  },
  {
   "cell_type": "code",
   "execution_count": 422,
   "metadata": {
    "collapsed": true
   },
   "outputs": [],
   "source": [
    "from sklearn.model_selection import train_test_split\n",
    "input_data = np.array(input_data)\n",
    "output_data = np.array(output_data)\n",
    "# train_input_data, val_input_data, train_output_data, val_output_data = train_test_split(input_data,output_data,train_size=0.8, test_size=0.2,random_state=42)\n",
    "\n",
    "\n",
    "# print(input_data.shape)\n",
    "# print(output_data.shape)\n",
    "# print(len(data[2]))"
   ]
  },
  {
   "cell_type": "code",
   "execution_count": 423,
   "metadata": {},
   "outputs": [
    {
     "name": "stdout",
     "output_type": "stream",
     "text": [
      "(250, 25, 200) (250,) 250\n",
      "_________________________________________________________________\n",
      "Layer (type)                 Output Shape              Param #   \n",
      "=================================================================\n",
      "lstm_42 (LSTM)               (None, 512)               1460224   \n",
      "_________________________________________________________________\n",
      "activation_42 (Activation)   (None, 512)               0         \n",
      "_________________________________________________________________\n",
      "dropout_42 (Dropout)         (None, 512)               0         \n",
      "_________________________________________________________________\n",
      "dense_42 (Dense)             (None, 1)                 513       \n",
      "=================================================================\n",
      "Total params: 1,460,737\n",
      "Trainable params: 1,460,737\n",
      "Non-trainable params: 0\n",
      "_________________________________________________________________\n"
     ]
    }
   ],
   "source": [
    "import numpy as np\n",
    "import matplotlib.pyplot as plt\n",
    "from keras.models import Sequential\n",
    "from keras.layers.core import Dense, Activation\n",
    "from keras.layers import Dropout\n",
    "from keras.layers.recurrent import LSTM\n",
    "from keras.optimizers import Adam, RMSprop\n",
    "from keras.callbacks import EarlyStopping\n",
    "from sklearn.model_selection import train_test_split\n",
    "from sklearn.utils import shuffle\n",
    "from keras import backend as K \n",
    "np.random.seed(0)\n",
    "\n",
    "\n",
    "\n",
    "\n",
    "\n",
    "N_train = int(len(input_data) * 0.8)\n",
    "N_validation = len(input_data) - N_train\n",
    "\n",
    "print(input_data.shape,output_data.shape, len(data[2]))\n",
    "X_train, X_validation, Y_train, Y_validation, row_train, row_validation = \\\n",
    "    train_test_split(input_data, output_data, data[2], test_size=N_validation)\n",
    "\n",
    "\n",
    "maxlen = 25\n",
    "'''\n",
    "モデル設定\n",
    "'''\n",
    "n_in = 200  \n",
    "n_hidden = 512\n",
    "n_out = 1\n",
    "\n",
    "\n",
    "def weight_variable(shape, name=None):\n",
    "    return np.random.normal(scale=.01, size=shape)\n",
    "\n",
    "def root_mean_squared_error(y_true, y_pred): \n",
    "     return K.sqrt(K.mean(K.square(y_pred - y_true), axis=-1)) \n",
    "# early_stopping = EarlyStopping(monitor='val_loss', patience=50, verbose=1)\n",
    "\n",
    "model = Sequential()\n",
    "model.add(LSTM(n_hidden,\n",
    "               kernel_initializer=weight_variable,\n",
    "               input_shape=(maxlen, n_in)))\n",
    "model.add(Activation('relu'))\n",
    "model.add(Dropout(0.3))\n",
    "# model.add(Activation('relu'))\n",
    "# model.add(Dropout(0.5))\n",
    "model.add(Dense(n_out, kernel_initializer=weight_variable))\n",
    "\n",
    "\n",
    "model.summary()\n",
    "# optimizer = Adam(lr=0.0010, beta_1=0.9, beta_2=0.999)\n",
    "optimizer = RMSprop(lr=0.001, rho=0.9, epsilon=None, decay=0.0)\n",
    "# model.compile(loss='mean_squared_error',optimizer=optimizer)\n",
    "model.compile(loss=root_mean_squared_error,\n",
    "              optimizer=optimizer)\n",
    "\n"
   ]
  },
  {
   "cell_type": "code",
   "execution_count": 424,
   "metadata": {},
   "outputs": [
    {
     "name": "stdout",
     "output_type": "stream",
     "text": [
      "Train on 200 samples, validate on 50 samples\n",
      "Epoch 1/300\n",
      "200/200 [==============================] - 16s 79ms/step - loss: 3.5004 - val_loss: 1.7295\n",
      "Epoch 2/300\n",
      "200/200 [==============================] - 1s 5ms/step - loss: 1.2620 - val_loss: 0.5463\n",
      "Epoch 3/300\n",
      "200/200 [==============================] - 1s 6ms/step - loss: 0.5787 - val_loss: 0.4521\n",
      "Epoch 4/300\n",
      "200/200 [==============================] - 1s 6ms/step - loss: 0.5363 - val_loss: 0.4643\n",
      "Epoch 5/300\n",
      "200/200 [==============================] - 1s 5ms/step - loss: 0.5332 - val_loss: 0.4774\n",
      "Epoch 6/300\n",
      "200/200 [==============================] - 1s 5ms/step - loss: 0.5450 - val_loss: 0.4580\n",
      "Epoch 7/300\n",
      "200/200 [==============================] - 1s 5ms/step - loss: 0.5258 - val_loss: 0.4574\n",
      "Epoch 8/300\n",
      "200/200 [==============================] - 1s 5ms/step - loss: 0.5475 - val_loss: 0.4513\n",
      "Epoch 9/300\n",
      "200/200 [==============================] - 1s 5ms/step - loss: 0.5254 - val_loss: 0.4707\n",
      "Epoch 10/300\n",
      "200/200 [==============================] - 1s 5ms/step - loss: 0.5425 - val_loss: 0.4804\n",
      "Epoch 11/300\n",
      "200/200 [==============================] - 1s 5ms/step - loss: 0.5459 - val_loss: 0.4455\n",
      "Epoch 12/300\n",
      "200/200 [==============================] - 1s 5ms/step - loss: 0.5703 - val_loss: 0.4461\n",
      "Epoch 13/300\n",
      "200/200 [==============================] - 1s 5ms/step - loss: 0.5332 - val_loss: 0.4541\n",
      "Epoch 14/300\n",
      "200/200 [==============================] - 1s 5ms/step - loss: 0.5387 - val_loss: 0.4630\n",
      "Epoch 15/300\n",
      "200/200 [==============================] - 1s 4ms/step - loss: 0.5652 - val_loss: 0.4606\n",
      "Epoch 16/300\n",
      "200/200 [==============================] - 1s 4ms/step - loss: 0.5432 - val_loss: 0.4453\n",
      "Epoch 17/300\n",
      "200/200 [==============================] - 1s 4ms/step - loss: 0.5341 - val_loss: 0.4485\n",
      "Epoch 18/300\n",
      "200/200 [==============================] - 1s 5ms/step - loss: 0.5621 - val_loss: 0.4436\n",
      "Epoch 19/300\n"
     ]
    },
    {
     "ename": "KeyboardInterrupt",
     "evalue": "",
     "output_type": "error",
     "traceback": [
      "\u001b[0;31m---------------------------------------------------------------------------\u001b[0m",
      "\u001b[0;31mKeyboardInterrupt\u001b[0m                         Traceback (most recent call last)",
      "\u001b[0;32m<ipython-input-424-e5f6352d546a>\u001b[0m in \u001b[0;36m<module>\u001b[0;34m()\u001b[0m\n\u001b[1;32m     15\u001b[0m           \u001b[0mbatch_size\u001b[0m\u001b[0;34m=\u001b[0m\u001b[0mbatch_size\u001b[0m\u001b[0;34m,\u001b[0m\u001b[0;34m\u001b[0m\u001b[0m\n\u001b[1;32m     16\u001b[0m           \u001b[0mepochs\u001b[0m\u001b[0;34m=\u001b[0m\u001b[0mepochs\u001b[0m\u001b[0;34m,\u001b[0m\u001b[0;34m\u001b[0m\u001b[0m\n\u001b[0;32m---> 17\u001b[0;31m           validation_data=(X_validation, Y_validation))\n\u001b[0m\u001b[1;32m     18\u001b[0m \u001b[0;34m\u001b[0m\u001b[0m\n\u001b[1;32m     19\u001b[0m \u001b[0;34m\u001b[0m\u001b[0m\n",
      "\u001b[0;32m~/Python/lib/python3.6/site-packages/keras/models.py\u001b[0m in \u001b[0;36mfit\u001b[0;34m(self, x, y, batch_size, epochs, verbose, callbacks, validation_split, validation_data, shuffle, class_weight, sample_weight, initial_epoch, steps_per_epoch, validation_steps, **kwargs)\u001b[0m\n\u001b[1;32m    961\u001b[0m                               \u001b[0minitial_epoch\u001b[0m\u001b[0;34m=\u001b[0m\u001b[0minitial_epoch\u001b[0m\u001b[0;34m,\u001b[0m\u001b[0;34m\u001b[0m\u001b[0m\n\u001b[1;32m    962\u001b[0m                               \u001b[0msteps_per_epoch\u001b[0m\u001b[0;34m=\u001b[0m\u001b[0msteps_per_epoch\u001b[0m\u001b[0;34m,\u001b[0m\u001b[0;34m\u001b[0m\u001b[0m\n\u001b[0;32m--> 963\u001b[0;31m                               validation_steps=validation_steps)\n\u001b[0m\u001b[1;32m    964\u001b[0m \u001b[0;34m\u001b[0m\u001b[0m\n\u001b[1;32m    965\u001b[0m     def evaluate(self, x=None, y=None,\n",
      "\u001b[0;32m~/Python/lib/python3.6/site-packages/keras/engine/training.py\u001b[0m in \u001b[0;36mfit\u001b[0;34m(self, x, y, batch_size, epochs, verbose, callbacks, validation_split, validation_data, shuffle, class_weight, sample_weight, initial_epoch, steps_per_epoch, validation_steps, **kwargs)\u001b[0m\n\u001b[1;32m   1710\u001b[0m                               \u001b[0minitial_epoch\u001b[0m\u001b[0;34m=\u001b[0m\u001b[0minitial_epoch\u001b[0m\u001b[0;34m,\u001b[0m\u001b[0;34m\u001b[0m\u001b[0m\n\u001b[1;32m   1711\u001b[0m                               \u001b[0msteps_per_epoch\u001b[0m\u001b[0;34m=\u001b[0m\u001b[0msteps_per_epoch\u001b[0m\u001b[0;34m,\u001b[0m\u001b[0;34m\u001b[0m\u001b[0m\n\u001b[0;32m-> 1712\u001b[0;31m                               validation_steps=validation_steps)\n\u001b[0m\u001b[1;32m   1713\u001b[0m \u001b[0;34m\u001b[0m\u001b[0m\n\u001b[1;32m   1714\u001b[0m     def evaluate(self, x=None, y=None,\n",
      "\u001b[0;32m~/Python/lib/python3.6/site-packages/keras/engine/training.py\u001b[0m in \u001b[0;36m_fit_loop\u001b[0;34m(self, f, ins, out_labels, batch_size, epochs, verbose, callbacks, val_f, val_ins, shuffle, callback_metrics, initial_epoch, steps_per_epoch, validation_steps)\u001b[0m\n\u001b[1;32m   1233\u001b[0m                         \u001b[0mins_batch\u001b[0m\u001b[0;34m[\u001b[0m\u001b[0mi\u001b[0m\u001b[0;34m]\u001b[0m \u001b[0;34m=\u001b[0m \u001b[0mins_batch\u001b[0m\u001b[0;34m[\u001b[0m\u001b[0mi\u001b[0m\u001b[0;34m]\u001b[0m\u001b[0;34m.\u001b[0m\u001b[0mtoarray\u001b[0m\u001b[0;34m(\u001b[0m\u001b[0;34m)\u001b[0m\u001b[0;34m\u001b[0m\u001b[0m\n\u001b[1;32m   1234\u001b[0m \u001b[0;34m\u001b[0m\u001b[0m\n\u001b[0;32m-> 1235\u001b[0;31m                     \u001b[0mouts\u001b[0m \u001b[0;34m=\u001b[0m \u001b[0mf\u001b[0m\u001b[0;34m(\u001b[0m\u001b[0mins_batch\u001b[0m\u001b[0;34m)\u001b[0m\u001b[0;34m\u001b[0m\u001b[0m\n\u001b[0m\u001b[1;32m   1236\u001b[0m                     \u001b[0;32mif\u001b[0m \u001b[0;32mnot\u001b[0m \u001b[0misinstance\u001b[0m\u001b[0;34m(\u001b[0m\u001b[0mouts\u001b[0m\u001b[0;34m,\u001b[0m \u001b[0mlist\u001b[0m\u001b[0;34m)\u001b[0m\u001b[0;34m:\u001b[0m\u001b[0;34m\u001b[0m\u001b[0m\n\u001b[1;32m   1237\u001b[0m                         \u001b[0mouts\u001b[0m \u001b[0;34m=\u001b[0m \u001b[0;34m[\u001b[0m\u001b[0mouts\u001b[0m\u001b[0;34m]\u001b[0m\u001b[0;34m\u001b[0m\u001b[0m\n",
      "\u001b[0;32m~/Python/lib/python3.6/site-packages/keras/backend/tensorflow_backend.py\u001b[0m in \u001b[0;36m__call__\u001b[0;34m(self, inputs)\u001b[0m\n\u001b[1;32m   2473\u001b[0m         \u001b[0msession\u001b[0m \u001b[0;34m=\u001b[0m \u001b[0mget_session\u001b[0m\u001b[0;34m(\u001b[0m\u001b[0;34m)\u001b[0m\u001b[0;34m\u001b[0m\u001b[0m\n\u001b[1;32m   2474\u001b[0m         updated = session.run(fetches=fetches, feed_dict=feed_dict,\n\u001b[0;32m-> 2475\u001b[0;31m                               **self.session_kwargs)\n\u001b[0m\u001b[1;32m   2476\u001b[0m         \u001b[0;32mreturn\u001b[0m \u001b[0mupdated\u001b[0m\u001b[0;34m[\u001b[0m\u001b[0;34m:\u001b[0m\u001b[0mlen\u001b[0m\u001b[0;34m(\u001b[0m\u001b[0mself\u001b[0m\u001b[0;34m.\u001b[0m\u001b[0moutputs\u001b[0m\u001b[0;34m)\u001b[0m\u001b[0;34m]\u001b[0m\u001b[0;34m\u001b[0m\u001b[0m\n\u001b[1;32m   2477\u001b[0m \u001b[0;34m\u001b[0m\u001b[0m\n",
      "\u001b[0;32m~/Python/lib/python3.6/site-packages/tensorflow/python/client/session.py\u001b[0m in \u001b[0;36mrun\u001b[0;34m(self, fetches, feed_dict, options, run_metadata)\u001b[0m\n\u001b[1;32m    898\u001b[0m     \u001b[0;32mtry\u001b[0m\u001b[0;34m:\u001b[0m\u001b[0;34m\u001b[0m\u001b[0m\n\u001b[1;32m    899\u001b[0m       result = self._run(None, fetches, feed_dict, options_ptr,\n\u001b[0;32m--> 900\u001b[0;31m                          run_metadata_ptr)\n\u001b[0m\u001b[1;32m    901\u001b[0m       \u001b[0;32mif\u001b[0m \u001b[0mrun_metadata\u001b[0m\u001b[0;34m:\u001b[0m\u001b[0;34m\u001b[0m\u001b[0m\n\u001b[1;32m    902\u001b[0m         \u001b[0mproto_data\u001b[0m \u001b[0;34m=\u001b[0m \u001b[0mtf_session\u001b[0m\u001b[0;34m.\u001b[0m\u001b[0mTF_GetBuffer\u001b[0m\u001b[0;34m(\u001b[0m\u001b[0mrun_metadata_ptr\u001b[0m\u001b[0;34m)\u001b[0m\u001b[0;34m\u001b[0m\u001b[0m\n",
      "\u001b[0;32m~/Python/lib/python3.6/site-packages/tensorflow/python/client/session.py\u001b[0m in \u001b[0;36m_run\u001b[0;34m(self, handle, fetches, feed_dict, options, run_metadata)\u001b[0m\n\u001b[1;32m   1133\u001b[0m     \u001b[0;32mif\u001b[0m \u001b[0mfinal_fetches\u001b[0m \u001b[0;32mor\u001b[0m \u001b[0mfinal_targets\u001b[0m \u001b[0;32mor\u001b[0m \u001b[0;34m(\u001b[0m\u001b[0mhandle\u001b[0m \u001b[0;32mand\u001b[0m \u001b[0mfeed_dict_tensor\u001b[0m\u001b[0;34m)\u001b[0m\u001b[0;34m:\u001b[0m\u001b[0;34m\u001b[0m\u001b[0m\n\u001b[1;32m   1134\u001b[0m       results = self._do_run(handle, final_targets, final_fetches,\n\u001b[0;32m-> 1135\u001b[0;31m                              feed_dict_tensor, options, run_metadata)\n\u001b[0m\u001b[1;32m   1136\u001b[0m     \u001b[0;32melse\u001b[0m\u001b[0;34m:\u001b[0m\u001b[0;34m\u001b[0m\u001b[0m\n\u001b[1;32m   1137\u001b[0m       \u001b[0mresults\u001b[0m \u001b[0;34m=\u001b[0m \u001b[0;34m[\u001b[0m\u001b[0;34m]\u001b[0m\u001b[0;34m\u001b[0m\u001b[0m\n",
      "\u001b[0;32m~/Python/lib/python3.6/site-packages/tensorflow/python/client/session.py\u001b[0m in \u001b[0;36m_do_run\u001b[0;34m(self, handle, target_list, fetch_list, feed_dict, options, run_metadata)\u001b[0m\n\u001b[1;32m   1314\u001b[0m     \u001b[0;32mif\u001b[0m \u001b[0mhandle\u001b[0m \u001b[0;32mis\u001b[0m \u001b[0;32mNone\u001b[0m\u001b[0;34m:\u001b[0m\u001b[0;34m\u001b[0m\u001b[0m\n\u001b[1;32m   1315\u001b[0m       return self._do_call(_run_fn, feeds, fetches, targets, options,\n\u001b[0;32m-> 1316\u001b[0;31m                            run_metadata)\n\u001b[0m\u001b[1;32m   1317\u001b[0m     \u001b[0;32melse\u001b[0m\u001b[0;34m:\u001b[0m\u001b[0;34m\u001b[0m\u001b[0m\n\u001b[1;32m   1318\u001b[0m       \u001b[0;32mreturn\u001b[0m \u001b[0mself\u001b[0m\u001b[0;34m.\u001b[0m\u001b[0m_do_call\u001b[0m\u001b[0;34m(\u001b[0m\u001b[0m_prun_fn\u001b[0m\u001b[0;34m,\u001b[0m \u001b[0mhandle\u001b[0m\u001b[0;34m,\u001b[0m \u001b[0mfeeds\u001b[0m\u001b[0;34m,\u001b[0m \u001b[0mfetches\u001b[0m\u001b[0;34m)\u001b[0m\u001b[0;34m\u001b[0m\u001b[0m\n",
      "\u001b[0;32m~/Python/lib/python3.6/site-packages/tensorflow/python/client/session.py\u001b[0m in \u001b[0;36m_do_call\u001b[0;34m(self, fn, *args)\u001b[0m\n\u001b[1;32m   1320\u001b[0m   \u001b[0;32mdef\u001b[0m \u001b[0m_do_call\u001b[0m\u001b[0;34m(\u001b[0m\u001b[0mself\u001b[0m\u001b[0;34m,\u001b[0m \u001b[0mfn\u001b[0m\u001b[0;34m,\u001b[0m \u001b[0;34m*\u001b[0m\u001b[0margs\u001b[0m\u001b[0;34m)\u001b[0m\u001b[0;34m:\u001b[0m\u001b[0;34m\u001b[0m\u001b[0m\n\u001b[1;32m   1321\u001b[0m     \u001b[0;32mtry\u001b[0m\u001b[0;34m:\u001b[0m\u001b[0;34m\u001b[0m\u001b[0m\n\u001b[0;32m-> 1322\u001b[0;31m       \u001b[0;32mreturn\u001b[0m \u001b[0mfn\u001b[0m\u001b[0;34m(\u001b[0m\u001b[0;34m*\u001b[0m\u001b[0margs\u001b[0m\u001b[0;34m)\u001b[0m\u001b[0;34m\u001b[0m\u001b[0m\n\u001b[0m\u001b[1;32m   1323\u001b[0m     \u001b[0;32mexcept\u001b[0m \u001b[0merrors\u001b[0m\u001b[0;34m.\u001b[0m\u001b[0mOpError\u001b[0m \u001b[0;32mas\u001b[0m \u001b[0me\u001b[0m\u001b[0;34m:\u001b[0m\u001b[0;34m\u001b[0m\u001b[0m\n\u001b[1;32m   1324\u001b[0m       \u001b[0mmessage\u001b[0m \u001b[0;34m=\u001b[0m \u001b[0mcompat\u001b[0m\u001b[0;34m.\u001b[0m\u001b[0mas_text\u001b[0m\u001b[0;34m(\u001b[0m\u001b[0me\u001b[0m\u001b[0;34m.\u001b[0m\u001b[0mmessage\u001b[0m\u001b[0;34m)\u001b[0m\u001b[0;34m\u001b[0m\u001b[0m\n",
      "\u001b[0;32m~/Python/lib/python3.6/site-packages/tensorflow/python/client/session.py\u001b[0m in \u001b[0;36m_run_fn\u001b[0;34m(feed_dict, fetch_list, target_list, options, run_metadata)\u001b[0m\n\u001b[1;32m   1305\u001b[0m       \u001b[0mself\u001b[0m\u001b[0;34m.\u001b[0m\u001b[0m_extend_graph\u001b[0m\u001b[0;34m(\u001b[0m\u001b[0;34m)\u001b[0m\u001b[0;34m\u001b[0m\u001b[0m\n\u001b[1;32m   1306\u001b[0m       return self._call_tf_sessionrun(\n\u001b[0;32m-> 1307\u001b[0;31m           options, feed_dict, fetch_list, target_list, run_metadata)\n\u001b[0m\u001b[1;32m   1308\u001b[0m \u001b[0;34m\u001b[0m\u001b[0m\n\u001b[1;32m   1309\u001b[0m     \u001b[0;32mdef\u001b[0m \u001b[0m_prun_fn\u001b[0m\u001b[0;34m(\u001b[0m\u001b[0mhandle\u001b[0m\u001b[0;34m,\u001b[0m \u001b[0mfeed_dict\u001b[0m\u001b[0;34m,\u001b[0m \u001b[0mfetch_list\u001b[0m\u001b[0;34m)\u001b[0m\u001b[0;34m:\u001b[0m\u001b[0;34m\u001b[0m\u001b[0m\n",
      "\u001b[0;32m~/Python/lib/python3.6/site-packages/tensorflow/python/client/session.py\u001b[0m in \u001b[0;36m_call_tf_sessionrun\u001b[0;34m(self, options, feed_dict, fetch_list, target_list, run_metadata)\u001b[0m\n\u001b[1;32m   1407\u001b[0m       return tf_session.TF_SessionRun_wrapper(\n\u001b[1;32m   1408\u001b[0m           \u001b[0mself\u001b[0m\u001b[0;34m.\u001b[0m\u001b[0m_session\u001b[0m\u001b[0;34m,\u001b[0m \u001b[0moptions\u001b[0m\u001b[0;34m,\u001b[0m \u001b[0mfeed_dict\u001b[0m\u001b[0;34m,\u001b[0m \u001b[0mfetch_list\u001b[0m\u001b[0;34m,\u001b[0m \u001b[0mtarget_list\u001b[0m\u001b[0;34m,\u001b[0m\u001b[0;34m\u001b[0m\u001b[0m\n\u001b[0;32m-> 1409\u001b[0;31m           run_metadata)\n\u001b[0m\u001b[1;32m   1410\u001b[0m     \u001b[0;32melse\u001b[0m\u001b[0;34m:\u001b[0m\u001b[0;34m\u001b[0m\u001b[0m\n\u001b[1;32m   1411\u001b[0m       \u001b[0;32mwith\u001b[0m \u001b[0merrors\u001b[0m\u001b[0;34m.\u001b[0m\u001b[0mraise_exception_on_not_ok_status\u001b[0m\u001b[0;34m(\u001b[0m\u001b[0;34m)\u001b[0m \u001b[0;32mas\u001b[0m \u001b[0mstatus\u001b[0m\u001b[0;34m:\u001b[0m\u001b[0;34m\u001b[0m\u001b[0m\n",
      "\u001b[0;31mKeyboardInterrupt\u001b[0m: "
     ]
    }
   ],
   "source": [
    "'''\n",
    "モデル学習\n",
    "'''\n",
    "epochs = 300\n",
    "batch_size = 100\n",
    "\n",
    "# model.fit(X_train, Y_train,\n",
    "#           batch_size=batch_size,\n",
    "#           epochs=epochs,\n",
    "#           validation_data=(X_validation, Y_validation),\n",
    "#           callbacks=[early_stopping])\n",
    "\n",
    "#earlystoppingなし\n",
    "model.fit(X_train, Y_train,\n",
    "          batch_size=batch_size,\n",
    "          epochs=epochs,\n",
    "          validation_data=(X_validation, Y_validation))\n",
    "\n",
    "\n",
    "# model.fit(X_train, Y_train,\n",
    "#           batch_size=batch_size,\n",
    "#           epochs=epochs,\n",
    "#           validation_data=(X_validation, Y_validation))\n",
    "\n",
    "\n",
    "\n"
   ]
  },
  {
   "cell_type": "code",
   "execution_count": null,
   "metadata": {
    "collapsed": true
   },
   "outputs": [],
   "source": [
    "# input_length = 25\n",
    "# test_vectors = [] \n",
    "# len(data[0])\n",
    "# for v in data[0]:\n",
    "#     context_vectors = v\n",
    "#     if len(v) == 14:\n",
    "#         context_vectors = np.append(context_vectors,[np.full(200,-1)], axis=0)\n",
    "#         context_vectors = np.append(context_vectors,[np.full(200,-1)], axis=0)\n",
    "#         context_vectors = np.append(context_vectors,[np.full(200,-1)], axis=0)\n",
    "#         context_vectors = np.append(context_vectors,[np.full(200,-1)], axis=0)\n",
    "#         context_vectors = np.append(context_vectors,[np.full(200,-1)], axis=0)\n",
    "#         context_vectors = np.append(context_vectors,[np.full(200,-1)], axis=0)\n",
    "#         context_vectors = np.append(context_vectors,[np.full(200,-1)], axis=0)\n",
    "#         context_vectors = np.append(context_vectors,[np.full(200,-1)], axis=0)\n",
    "#         context_vectors = np.append(context_vectors,[np.full(200,-1)], axis=0)\n",
    "#         context_vectors = np.append(context_vectors,[np.full(200,-1)], axis=0)\n",
    "#         context_vectors = np.append(context_vectors,[np.full(200,-1)], axis=0)\n",
    "#         test_vectors.append(context_vectors)"
   ]
  },
  {
   "cell_type": "code",
   "execution_count": null,
   "metadata": {},
   "outputs": [],
   "source": [
    "# test_vectors = np.array(test_vectors)\n",
    "y_pred = model.predict(X_train)\n",
    "y_test_pred = model.predict(X_validation)\n",
    "# for text, pred in zip(row_train, y_train_pred):\n",
    "#     print(text, pred)\n",
    "\n",
    "for text, pred, ans in zip(row_validation, y_test_pred, Y_validation):\n",
    "    print(text, pred, ans)"
   ]
  },
  {
   "cell_type": "code",
   "execution_count": null,
   "metadata": {},
   "outputs": [],
   "source": [
    "model.evaluate(X_validation, Y_validation)\n",
    "# ほぼR^2 = 0.5なので、|R|は0.69999で\n",
    "# 1.0≧|R|≧0.7 ：高い相関がある \n",
    "# 0.7≧|R|≧0.5 ：かなり高い相関がある \n",
    "# に当てはまるので、まぁそこそこ？\n",
    "\n",
    "\n",
    "# LR = 0.0005\n",
    "\n",
    "#なし 0.42 0.37 epochs 100 \n",
    "#なし 0.35 0.38 epochs 200 \n",
    "\n",
    "# dropout 0.2 0.35 0.35 epochs 100 \n",
    "# dropout 0.2 0.35 0.35 epochs 200 \n",
    "\n",
    "# recurrent_dropout=0.2, 0.35 0.37 epochs 100\n",
    "\n",
    "# reccurent_dropout0.5 = 0.566 \n",
    "# reccurent_dropout0.5 = 0.37 0.38 epochs 100 \n",
    "# reccurent_dropout0.5 = 0.38 0.42 0.38 epochs 200\n",
    "\n",
    "\n",
    "# recurrent_dropout=0.2, dropout=0.2, 0.41 =>0.36 =>0.41 epochs100\n",
    "# recurrent_dropout=0.2, dropout=0.2, 0.36 => 0.41 => 0.40 epochs200\n",
    "\n",
    "\n",
    "# LR = 0.001\n",
    "# なし  0.39 0.44 0.39 epochs 200\n",
    "\n",
    "# なし　0.54 0.49 0.42  epochs 300\n",
    "# なし  0.46 0.43 0.38   epochs 400\n",
    "# recurrent_dropout=0.2  0.41   epochs 300\n",
    "\n",
    "\n",
    "# dropout=0.5  0.32 0.40  epochs 300"
   ]
  },
  {
   "cell_type": "code",
   "execution_count": null,
   "metadata": {
    "collapsed": true
   },
   "outputs": [],
   "source": [
    "# intlen(data)"
   ]
  },
  {
   "cell_type": "code",
   "execution_count": null,
   "metadata": {
    "collapsed": true
   },
   "outputs": [],
   "source": [
    "#hidden256 dropout0.3が今の所一番精度が高い"
   ]
  },
  {
   "cell_type": "code",
   "execution_count": null,
   "metadata": {
    "collapsed": true
   },
   "outputs": [],
   "source": [
    "#Adam epochs350が良さげ"
   ]
  },
  {
   "cell_type": "code",
   "execution_count": null,
   "metadata": {},
   "outputs": [],
   "source": [
    "'''\n",
    "出力を用いて予測\n",
    "'''\n",
    "# 元データの最初の一部だけ切り出し\n",
    "# model.predict()\n",
    "# input_data[3:10].shape\n",
    "\n",
    "test_text = [ \"昨日、バイトがあって、お客さんがたくさん来ました\",\"浅井さんは丁寧で、非常に優しい\",\"前にここに来たときは、大雪だったので、あまり楽しめませんでした\",\"宿は長野県にある\",\"この旅館は人気がある\",\"従業員の方々は非常に優しく、対応が丁寧です\",\"従業員の方々が優しかったです\",\"佐々木希が来たらしい\",\"料理がとっても美味しくて、最高でした！\",\"非常に景色と温泉が綺麗で、部屋の内装やアメニティが良く、非常に満足出来るものでした\"]\n",
    "test_wakati_text = []\n",
    "for text in test_text:\n",
    "    test_wakati_text.append(tokenize(text))\n",
    "\n",
    "# test_wakati_text = \"\"\n",
    "word_model = word2vec.Word2Vec.load(\"./word2vec/model/wiki.model\")\n",
    "test_vectors = []\n",
    "for wakati_text in test_wakati_text:\n",
    "    test_vector = []\n",
    "    for char in m.removeStoplist(wakati_text, []).split(\" \"):\n",
    "        try:\n",
    "            test_vector.append(word_model[char])\n",
    "        except KeyError:\n",
    "            test_vector.append(unknown_token)\n",
    "    test_vectors.append(np.array(test_vector))\n",
    "\n",
    "# test_vectors = np.array(test_vectors)\n",
    "input_length = 25\n",
    "input_test_data = []\n",
    "for test_vector in test_vectors:\n",
    "    context_vectors = test_vector\n",
    "    while(len(context_vectors)<input_length):\n",
    "        context_vectors = np.append(context_vectors,[np.full(200,-1)], axis=0)\n",
    "    input_test_data.append(context_vectors)\n",
    "input_test_data = np.array(input_test_data)\n",
    "\n",
    "\n",
    "test_predictions = model.predict(input_test_data)\n",
    "\n",
    "for pred, text in zip(test_predictions, test_text):\n",
    "    print(text, pred)"
   ]
  },
  {
   "cell_type": "markdown",
   "metadata": {
    "collapsed": true
   },
   "source": [
    "\n",
    "### めも\n",
    "\n",
    "文章の情報量が対話継続欲求に影響して言えるのではないか。\n",
    "\n",
    "文章の情報量\n",
    "\n",
    "複数のモデルを作る\n",
    "\n",
    "\n",
    "綺麗でした　をそのまま学習したモデルと\n",
    "綺麗でした　を[0,2,0.0001,0,000002]情報量(単語頻度)で変換させた後学習したモデルを比較すれば情報量が影響しているかどうかがわかる\n",
    "\n",
    "\n",
    "\n"
   ]
  },
  {
   "cell_type": "markdown",
   "metadata": {
    "collapsed": true
   },
   "source": [
    "## 重要\n",
    "- もともと、経験談の感じ方は人によって、違い、分散が大きく出るものもある。なので、分散が大きいことも考慮して、分散が大きいだろうと予測できるものは予測の数値を下げるか、"
   ]
  },
  {
   "cell_type": "code",
   "execution_count": null,
   "metadata": {
    "collapsed": true
   },
   "outputs": [],
   "source": []
  },
  {
   "cell_type": "code",
   "execution_count": null,
   "metadata": {
    "collapsed": true
   },
   "outputs": [],
   "source": []
  },
  {
   "cell_type": "code",
   "execution_count": null,
   "metadata": {
    "collapsed": true
   },
   "outputs": [],
   "source": []
  },
  {
   "cell_type": "code",
   "execution_count": null,
   "metadata": {
    "collapsed": true
   },
   "outputs": [],
   "source": []
  },
  {
   "cell_type": "code",
   "execution_count": null,
   "metadata": {
    "collapsed": true
   },
   "outputs": [],
   "source": []
  },
  {
   "cell_type": "code",
   "execution_count": null,
   "metadata": {
    "collapsed": true
   },
   "outputs": [],
   "source": []
  },
  {
   "cell_type": "code",
   "execution_count": null,
   "metadata": {
    "collapsed": true
   },
   "outputs": [],
   "source": []
  },
  {
   "cell_type": "code",
   "execution_count": null,
   "metadata": {
    "collapsed": true
   },
   "outputs": [],
   "source": []
  },
  {
   "cell_type": "code",
   "execution_count": null,
   "metadata": {
    "collapsed": true
   },
   "outputs": [],
   "source": []
  },
  {
   "cell_type": "code",
   "execution_count": null,
   "metadata": {
    "collapsed": true
   },
   "outputs": [],
   "source": []
  },
  {
   "cell_type": "code",
   "execution_count": null,
   "metadata": {
    "collapsed": true
   },
   "outputs": [],
   "source": []
  },
  {
   "cell_type": "code",
   "execution_count": null,
   "metadata": {
    "collapsed": true
   },
   "outputs": [],
   "source": []
  },
  {
   "cell_type": "code",
   "execution_count": null,
   "metadata": {
    "collapsed": true
   },
   "outputs": [],
   "source": []
  },
  {
   "cell_type": "code",
   "execution_count": null,
   "metadata": {
    "collapsed": true
   },
   "outputs": [],
   "source": []
  },
  {
   "cell_type": "code",
   "execution_count": null,
   "metadata": {
    "collapsed": true
   },
   "outputs": [],
   "source": []
  },
  {
   "cell_type": "code",
   "execution_count": null,
   "metadata": {
    "collapsed": true
   },
   "outputs": [],
   "source": []
  },
  {
   "cell_type": "code",
   "execution_count": null,
   "metadata": {
    "collapsed": true
   },
   "outputs": [],
   "source": []
  },
  {
   "cell_type": "code",
   "execution_count": null,
   "metadata": {
    "collapsed": true
   },
   "outputs": [],
   "source": []
  },
  {
   "cell_type": "code",
   "execution_count": null,
   "metadata": {
    "collapsed": true
   },
   "outputs": [],
   "source": []
  },
  {
   "cell_type": "code",
   "execution_count": null,
   "metadata": {
    "collapsed": true
   },
   "outputs": [],
   "source": []
  },
  {
   "cell_type": "code",
   "execution_count": null,
   "metadata": {
    "collapsed": true
   },
   "outputs": [],
   "source": []
  },
  {
   "cell_type": "code",
   "execution_count": null,
   "metadata": {
    "collapsed": true
   },
   "outputs": [],
   "source": []
  },
  {
   "cell_type": "code",
   "execution_count": null,
   "metadata": {
    "collapsed": true
   },
   "outputs": [],
   "source": []
  },
  {
   "cell_type": "code",
   "execution_count": null,
   "metadata": {
    "collapsed": true
   },
   "outputs": [],
   "source": []
  },
  {
   "cell_type": "code",
   "execution_count": null,
   "metadata": {
    "collapsed": true
   },
   "outputs": [],
   "source": []
  },
  {
   "cell_type": "code",
   "execution_count": null,
   "metadata": {
    "collapsed": true
   },
   "outputs": [],
   "source": []
  },
  {
   "cell_type": "code",
   "execution_count": null,
   "metadata": {
    "collapsed": true
   },
   "outputs": [],
   "source": []
  },
  {
   "cell_type": "code",
   "execution_count": null,
   "metadata": {
    "collapsed": true
   },
   "outputs": [],
   "source": []
  }
 ],
 "metadata": {
  "kernelspec": {
   "display_name": "Python 3",
   "language": "python",
   "name": "python3"
  },
  "language_info": {
   "codemirror_mode": {
    "name": "ipython",
    "version": 3
   },
   "file_extension": ".py",
   "mimetype": "text/x-python",
   "name": "python",
   "nbconvert_exporter": "python",
   "pygments_lexer": "ipython3",
   "version": "3.6.5"
  }
 },
 "nbformat": 4,
 "nbformat_minor": 2
}
