{
 "cells": [
  {
   "cell_type": "code",
   "execution_count": 1,
   "metadata": {},
   "outputs": [
    {
     "name": "stderr",
     "output_type": "stream",
     "text": [
      "/Users/uchidayuki/Python/lib/python3.6/site-packages/h5py/__init__.py:36: FutureWarning: Conversion of the second argument of issubdtype from `float` to `np.floating` is deprecated. In future, it will be treated as `np.float64 == np.dtype(float).type`.\n",
      "  from ._conv import register_converters as _register_converters\n",
      "Using TensorFlow backend.\n"
     ]
    }
   ],
   "source": [
    "from gensim.models import word2vec\n",
    "model = word2vec.Word2Vec.load(\"./word2vec/model/wiki.model\")\n",
    "import MeCab\n",
    "tagger = MeCab.Tagger('-Owakati')"
   ]
  },
  {
   "cell_type": "code",
   "execution_count": 2,
   "metadata": {
    "collapsed": true
   },
   "outputs": [],
   "source": [
    "import numpy as np\n",
    "import pandas as pd\n",
    "df_data = pd.read_csv(\"./some20181105.csv\",encoding='cp932',header=None).drop(0,axis=0).drop(1,axis=1).drop(0,axis=1)\n",
    "columns0 = np.insert(df_data.iloc[0].values,0,\"keyword\") \n",
    "columns1 = np.insert(df_data.iloc[1].values,0,\"keyword\")\n",
    "columns2 = np.insert(df_data.iloc[2].values,0,\"keyword\")"
   ]
  },
  {
   "cell_type": "code",
   "execution_count": 3,
   "metadata": {
    "collapsed": true
   },
   "outputs": [],
   "source": [
    "import pandas as pd\n",
    "df = pd.read_csv(\"./kikuchi_sotsuken/finish_info_2_1.csv\",header=None).drop(0,axis=0).drop([0,1,2,3],axis=1)\n",
    "retu = []\n",
    "for i in range(105):\n",
    "    if (i%2 == 0)and(i >=6):\n",
    "        retu.append(i)\n",
    "df = df.drop(retu,axis=1)\n",
    "columns = []\n",
    "for i in range(51):\n",
    "    if i == 0:\n",
    "        columns.append(\"keyword\")\n",
    "    else:\n",
    "        columns.append(i)\n",
    "df.columns = columns\n",
    "df0 = df[df[\"keyword\"] == \"0\"]\n",
    "df1 = df[df[\"keyword\"] == \"1\"]\n",
    "df2 = df[df[\"keyword\"] == \"2\"]"
   ]
  },
  {
   "cell_type": "code",
   "execution_count": 4,
   "metadata": {
    "collapsed": true
   },
   "outputs": [],
   "source": [
    "df0.columns = columns0\n",
    "df1.columns = columns1\n",
    "df2.columns = columns2"
   ]
  },
  {
   "cell_type": "markdown",
   "metadata": {},
   "source": [
    "## 連結"
   ]
  },
  {
   "cell_type": "code",
   "execution_count": 5,
   "metadata": {
    "collapsed": true
   },
   "outputs": [],
   "source": [
    "result_df0 = pd.concat([df0]).drop(\"keyword\",axis=1).reset_index(drop=True).astype(np.int64)\n",
    "result_df1 = pd.concat([df1]).drop(\"keyword\",axis=1).reset_index(drop=True).astype(np.int64)\n",
    "result_df2 = pd.concat([df2]).drop(\"keyword\",axis=1).reset_index(drop=True).astype(np.int64)\n"
   ]
  },
  {
   "cell_type": "markdown",
   "metadata": {},
   "source": [
    "## 平均・分散算出"
   ]
  },
  {
   "cell_type": "code",
   "execution_count": 6,
   "metadata": {
    "collapsed": true
   },
   "outputs": [],
   "source": [
    "result_df0_mean = pd.DataFrame(result_df0.mean()).T.round(1)\n",
    "result_df1_mean = pd.DataFrame(result_df1.mean()).T.round(1)\n",
    "result_df2_mean = pd.DataFrame(result_df2.mean()).T.round(1)\n",
    "\n",
    "\n",
    "keyword0_mean = pd.DataFrame(result_df0.mean().round(1)).T\n",
    "keyword0_std = pd.DataFrame(result_df0.std().round(1)).T\n",
    "keyword1_mean = pd.DataFrame(result_df1.mean().round(1)).T\n",
    "keyword1_std = pd.DataFrame(result_df1.std().round(1)).T\n",
    "keyword2_mean = pd.DataFrame(result_df2.mean().round(1)).T\n",
    "keyword2_std = pd.DataFrame(result_df2.std().round(1)).T\n",
    "\n",
    "\n",
    "\n",
    "keyword0 = pd.concat([keyword0_mean,keyword0_std])\n",
    "keyword0.index = [\"mean\", \"std\"]\n",
    "\n",
    "keyword1 = pd.concat([keyword1_mean,keyword1_std])\n",
    "keyword1.index = [\"mean\", \"std\"]\n",
    "\n",
    "keyword2 = pd.concat([keyword2_mean,keyword2_std])\n",
    "keyword2.index = [\"mean\", \"std\"]\n",
    "\n"
   ]
  },
  {
   "cell_type": "markdown",
   "metadata": {},
   "source": [
    "## 分かち書き"
   ]
  },
  {
   "cell_type": "code",
   "execution_count": 7,
   "metadata": {
    "collapsed": true
   },
   "outputs": [],
   "source": [
    "import MeCab\n",
    "import re\n",
    "\n",
    "def tokenize(text):\n",
    "    wakati = MeCab.Tagger(\"-O wakati\")\n",
    "    wakati.parse(\"\")\n",
    "    words = wakati.parse(text)\n",
    "\n",
    "    # Make word list\n",
    "    if words[-1] == u\"\\n\":\n",
    "        words = words[:-1]\n",
    "\n",
    "    return words"
   ]
  },
  {
   "cell_type": "code",
   "execution_count": 8,
   "metadata": {
    "collapsed": true
   },
   "outputs": [],
   "source": [
    "samples0 = df0.columns[1:]\n",
    "texts0 = [tokenize(a) for a in samples0]\n",
    "samples1 = df1.columns[1:]\n",
    "texts1 = [tokenize(a) for a in samples1]\n",
    "samples2 = df2.columns[1:]\n",
    "texts2 = [tokenize(a) for a in samples2]\n"
   ]
  },
  {
   "cell_type": "code",
   "execution_count": 9,
   "metadata": {
    "collapsed": true
   },
   "outputs": [],
   "source": [
    "from gensim.models import word2vec\n",
    "\n",
    "model = word2vec.Word2Vec.load(\"./word2vec/model/wiki.model\")\n",
    "\n",
    "\n",
    "from Ocab import Ocab, Regexp\n",
    "c = Regexp()\n",
    "m = Ocab(target=[\"名詞\",\"動詞\",\"形容詞\",\"副詞\"])\n"
   ]
  },
  {
   "cell_type": "code",
   "execution_count": 11,
   "metadata": {},
   "outputs": [],
   "source": [
    "# unknown_token = np.random.randint(-1, 1, (200, 1))  #\n",
    "unknown_token = np.random.random_sample(200)\n",
    "word2vec_array0 = []\n",
    "for str in texts0:\n",
    "    word_vectors = []\n",
    "    for char in m.removeStoplist(str, []).split(\" \"):\n",
    "        try:\n",
    "            word_vectors.append(model[char])\n",
    "#             print('#{0}ok'.format(char))\n",
    "        except KeyError:\n",
    "#             print('#{0}vocabularry error'.format(char))\n",
    "            for c in tokenize(char).split(\" \"):\n",
    "                try:\n",
    "                    word_vectors.append(model[c])\n",
    "#                     print('#{0}ok'.format(c))\n",
    "                except KeyError:\n",
    "                    word_vectors.append(unknown_token)\n",
    "#                     print('#{0}vocabularry error'.format(c))\n",
    "    word2vec_array0.append(word_vectors)\n",
    "\n",
    "word2vec_array1 = []\n",
    "for str in texts1:\n",
    "    word_vectors = []\n",
    "    for char in m.removeStoplist(str, []).split(\" \"):\n",
    "        try:\n",
    "            word_vectors.append(model[char])\n",
    "#             print('#{0}ok'.format(char))\n",
    "        except KeyError:\n",
    "#             print('#{0}vocabularry error'.format(char))\n",
    "            for c in tokenize(char).split(\" \"):\n",
    "                try:\n",
    "                    word_vectors.append(model[c])\n",
    "#                     print('#{0}ok'.format(c))\n",
    "                except KeyError:\n",
    "                    word_vectors.append(unknown_token)\n",
    "#                     print('#{0}vocabularry error'.format(c))\n",
    "    word2vec_array1.append(word_vectors)\n",
    "\n",
    "word2vec_array2 = []\n",
    "for str in texts2:\n",
    "    word_vectors = []\n",
    "    for char in m.removeStoplist(str, []).split(\" \"):\n",
    "        try:\n",
    "            word_vectors.append(model[char])\n",
    "#             print('#{0}ok'.format(char))\n",
    "        except KeyError:\n",
    "#             print('#{0}vocabularry error'.format(char))\n",
    "            for c in tokenize(char).split(\" \"):\n",
    "                try:\n",
    "                    word_vectors.append(model[c])\n",
    "#                     print('#{0}ok'.format(c))\n",
    "                except KeyError:\n",
    "                    word_vectors.append(unknown_token)\n",
    "#                     print('#{0}vocabularry error'.format(c))\n",
    "    word2vec_array2.append(word_vectors)\n",
    "\n"
   ]
  },
  {
   "cell_type": "code",
   "execution_count": 12,
   "metadata": {},
   "outputs": [
    {
     "data": {
      "text/html": [
       "<div>\n",
       "<style>\n",
       "    .dataframe thead tr:only-child th {\n",
       "        text-align: right;\n",
       "    }\n",
       "\n",
       "    .dataframe thead th {\n",
       "        text-align: left;\n",
       "    }\n",
       "\n",
       "    .dataframe tbody tr th {\n",
       "        vertical-align: top;\n",
       "    }\n",
       "</style>\n",
       "<table border=\"1\" class=\"dataframe\">\n",
       "  <thead>\n",
       "    <tr style=\"text-align: right;\">\n",
       "      <th></th>\n",
       "      <th>部屋からの景色も湖側だったからか素晴らしかったです</th>\n",
       "      <th>バルコニーに椅子とテーブルがある</th>\n",
       "      <th>話しかけたくれたり、お食事会場ではあいたお皿を言う前に下げていただけたり、素晴らしかったです</th>\n",
       "      <th>とにかく素晴らしかったです</th>\n",
       "      <th>とにかくよかったです</th>\n",
       "      <th>一緒に行った友人からもここを予約してくれてありがとうと言われました</th>\n",
       "      <th>もし今後また箱根に行く機会があれば絶対にこちらのお宿を利用させていただこうと思います</th>\n",
       "      <th>フロントから芦ノ湖を眺める庭一面に水が張ってあり、芦ノ湖にそのままつながっているような絵になります</th>\n",
       "      <th>水面の中央にサークルテーブルが設けられており、絶好のフォトスポットになってます</th>\n",
       "      <th>足湯に浸かりながら、お酒や飲みのを楽しむことも可能</th>\n",
       "      <th>...</th>\n",
       "      <th>楽天スーパーSALEは、とてもいいプランでした</th>\n",
       "      <th>値段は安く、料理の種類も豊富で満足でした</th>\n",
       "      <th>部屋はやや古くても二間で使いやすかったです</th>\n",
       "      <th>ホテルの立地的な問題かもしれませんが、大浴場の風景はなく、まるでビルの谷間にあるイメージでした</th>\n",
       "      <th>宿泊代が安かったので、正直すべてにおいて期待していませんでした</th>\n",
       "      <th>が！！ホテル入口で駐車場の案内をしていたかた、駐車場で車の誘導をしていたかた、フロントのかた、もうみなさんが、にこやか、かつ的確でプロでした</th>\n",
       "      <th>お部屋も広くて、お掃除も行き届いていましたし、あちこちにエアコンがあって暑がりな私たちも快適にすごせました</th>\n",
       "      <th>平日でしたが、土日のもっと宿泊客がいるときと変わらないものを出してくれているんだと思いました</th>\n",
       "      <th>お風呂もきれいでしたし、シャンプーが選べたりして楽しかったです</th>\n",
       "      <th>夏に私たち夫婦にとって大変つらいことがあり、元気になるための旅行でもありました</th>\n",
       "    </tr>\n",
       "  </thead>\n",
       "  <tbody>\n",
       "    <tr>\n",
       "      <th>mean</th>\n",
       "      <td>4.7</td>\n",
       "      <td>3.2</td>\n",
       "      <td>4.8</td>\n",
       "      <td>3.6</td>\n",
       "      <td>3.6</td>\n",
       "      <td>4.6</td>\n",
       "      <td>4.6</td>\n",
       "      <td>2.9</td>\n",
       "      <td>2.9</td>\n",
       "      <td>2.7</td>\n",
       "      <td>...</td>\n",
       "      <td>3.1</td>\n",
       "      <td>4.2</td>\n",
       "      <td>4.5</td>\n",
       "      <td>4.4</td>\n",
       "      <td>3.6</td>\n",
       "      <td>4.5</td>\n",
       "      <td>4.6</td>\n",
       "      <td>4.2</td>\n",
       "      <td>4.5</td>\n",
       "      <td>3.7</td>\n",
       "    </tr>\n",
       "    <tr>\n",
       "      <th>std</th>\n",
       "      <td>0.5</td>\n",
       "      <td>0.9</td>\n",
       "      <td>0.4</td>\n",
       "      <td>0.8</td>\n",
       "      <td>0.8</td>\n",
       "      <td>0.7</td>\n",
       "      <td>0.7</td>\n",
       "      <td>1.1</td>\n",
       "      <td>0.9</td>\n",
       "      <td>0.8</td>\n",
       "      <td>...</td>\n",
       "      <td>0.9</td>\n",
       "      <td>0.9</td>\n",
       "      <td>0.8</td>\n",
       "      <td>0.7</td>\n",
       "      <td>1.1</td>\n",
       "      <td>0.5</td>\n",
       "      <td>0.5</td>\n",
       "      <td>0.9</td>\n",
       "      <td>0.7</td>\n",
       "      <td>0.9</td>\n",
       "    </tr>\n",
       "  </tbody>\n",
       "</table>\n",
       "<p>2 rows × 50 columns</p>\n",
       "</div>"
      ],
      "text/plain": [
       "      部屋からの景色も湖側だったからか素晴らしかったです  バルコニーに椅子とテーブルがある  \\\n",
       "mean                        4.7               3.2   \n",
       "std                         0.5               0.9   \n",
       "\n",
       "      話しかけたくれたり、お食事会場ではあいたお皿を言う前に下げていただけたり、素晴らしかったです  とにかく素晴らしかったです  \\\n",
       "mean                                             4.8            3.6   \n",
       "std                                              0.4            0.8   \n",
       "\n",
       "      とにかくよかったです  一緒に行った友人からもここを予約してくれてありがとうと言われました  \\\n",
       "mean         3.6                                4.6   \n",
       "std          0.8                                0.7   \n",
       "\n",
       "      もし今後また箱根に行く機会があれば絶対にこちらのお宿を利用させていただこうと思います  \\\n",
       "mean                                         4.6   \n",
       "std                                          0.7   \n",
       "\n",
       "      フロントから芦ノ湖を眺める庭一面に水が張ってあり、芦ノ湖にそのままつながっているような絵になります  \\\n",
       "mean                                                2.9   \n",
       "std                                                 1.1   \n",
       "\n",
       "      水面の中央にサークルテーブルが設けられており、絶好のフォトスポットになってます  足湯に浸かりながら、お酒や飲みのを楽しむことも可能  \\\n",
       "mean                                      2.9                        2.7   \n",
       "std                                       0.9                        0.8   \n",
       "\n",
       "                       ...                     楽天スーパーSALEは、とてもいいプランでした  \\\n",
       "mean                   ...                                         3.1   \n",
       "std                    ...                                         0.9   \n",
       "\n",
       "      値段は安く、料理の種類も豊富で満足でした  部屋はやや古くても二間で使いやすかったです  \\\n",
       "mean                   4.2                    4.5   \n",
       "std                    0.9                    0.8   \n",
       "\n",
       "      ホテルの立地的な問題かもしれませんが、大浴場の風景はなく、まるでビルの谷間にあるイメージでした  \\\n",
       "mean                                              4.4   \n",
       "std                                               0.7   \n",
       "\n",
       "      宿泊代が安かったので、正直すべてにおいて期待していませんでした  \\\n",
       "mean                              3.6   \n",
       "std                               1.1   \n",
       "\n",
       "      が！！ホテル入口で駐車場の案内をしていたかた、駐車場で車の誘導をしていたかた、フロントのかた、もうみなさんが、にこやか、かつ的確でプロでした  \\\n",
       "mean                                                4.5                        \n",
       "std                                                 0.5                        \n",
       "\n",
       "      お部屋も広くて、お掃除も行き届いていましたし、あちこちにエアコンがあって暑がりな私たちも快適にすごせました  \\\n",
       "mean                                                4.6       \n",
       "std                                                 0.5       \n",
       "\n",
       "      平日でしたが、土日のもっと宿泊客がいるときと変わらないものを出してくれているんだと思いました  \\\n",
       "mean                                             4.2   \n",
       "std                                              0.9   \n",
       "\n",
       "      お風呂もきれいでしたし、シャンプーが選べたりして楽しかったです  夏に私たち夫婦にとって大変つらいことがあり、元気になるための旅行でもありました  \n",
       "mean                              4.5                                      3.7  \n",
       "std                               0.7                                      0.9  \n",
       "\n",
       "[2 rows x 50 columns]"
      ]
     },
     "execution_count": 12,
     "metadata": {},
     "output_type": "execute_result"
    }
   ],
   "source": [
    "##これが文章ベクトル 入力データ\n",
    "word2vec_array0\n",
    "word2vec_array1\n",
    "word2vec_array2\n",
    "\n",
    "##これが正解データ\n",
    "keyword0\n",
    "keyword1\n",
    "keyword2\n"
   ]
  },
  {
   "cell_type": "markdown",
   "metadata": {},
   "source": [
    "## [文章ベクトル,正解データ]"
   ]
  },
  {
   "cell_type": "code",
   "execution_count": 14,
   "metadata": {
    "collapsed": true
   },
   "outputs": [],
   "source": [
    "data = [[],[],[]]\n",
    "for vec, label, row in zip(word2vec_array0, keyword0.loc[\"mean\"].values, samples0):\n",
    "    data[0].append(np.array(vec))\n",
    "    data[1].append(label)\n",
    "    data[2].append(row)\n",
    "for vec, label, row in zip(word2vec_array1, keyword1.loc[\"mean\"].values, samples1):\n",
    "    data[0].append(np.array(vec))\n",
    "    data[1].append(label)\n",
    "    data[2].append(row)\n",
    "for vec, label, row in zip(word2vec_array2, keyword2.loc[\"mean\"].values, samples2):\n",
    "    data[0].append(np.array(vec))\n",
    "    data[1].append(label)\n",
    "    data[2].append(row)\n",
    "\n",
    "df = pd.DataFrame(data)\n",
    "df.to_csv('input_data_2.csv')"
   ]
  },
  {
   "cell_type": "code",
   "execution_count": null,
   "metadata": {
    "collapsed": true
   },
   "outputs": [],
   "source": []
  },
  {
   "cell_type": "code",
   "execution_count": null,
   "metadata": {
    "collapsed": true
   },
   "outputs": [],
   "source": []
  },
  {
   "cell_type": "code",
   "execution_count": null,
   "metadata": {
    "collapsed": true
   },
   "outputs": [],
   "source": []
  },
  {
   "cell_type": "code",
   "execution_count": null,
   "metadata": {
    "collapsed": true
   },
   "outputs": [],
   "source": []
  },
  {
   "cell_type": "code",
   "execution_count": null,
   "metadata": {
    "collapsed": true
   },
   "outputs": [],
   "source": []
  },
  {
   "cell_type": "code",
   "execution_count": null,
   "metadata": {
    "collapsed": true
   },
   "outputs": [],
   "source": []
  },
  {
   "cell_type": "code",
   "execution_count": null,
   "metadata": {
    "collapsed": true
   },
   "outputs": [],
   "source": []
  },
  {
   "cell_type": "code",
   "execution_count": null,
   "metadata": {
    "collapsed": true
   },
   "outputs": [],
   "source": []
  },
  {
   "cell_type": "code",
   "execution_count": null,
   "metadata": {
    "collapsed": true
   },
   "outputs": [],
   "source": []
  },
  {
   "cell_type": "code",
   "execution_count": null,
   "metadata": {
    "collapsed": true
   },
   "outputs": [],
   "source": []
  },
  {
   "cell_type": "code",
   "execution_count": null,
   "metadata": {
    "collapsed": true
   },
   "outputs": [],
   "source": []
  },
  {
   "cell_type": "code",
   "execution_count": null,
   "metadata": {
    "collapsed": true
   },
   "outputs": [],
   "source": []
  },
  {
   "cell_type": "code",
   "execution_count": null,
   "metadata": {
    "collapsed": true
   },
   "outputs": [],
   "source": []
  },
  {
   "cell_type": "code",
   "execution_count": null,
   "metadata": {
    "collapsed": true
   },
   "outputs": [],
   "source": []
  },
  {
   "cell_type": "code",
   "execution_count": null,
   "metadata": {
    "collapsed": true
   },
   "outputs": [],
   "source": []
  },
  {
   "cell_type": "code",
   "execution_count": null,
   "metadata": {
    "collapsed": true
   },
   "outputs": [],
   "source": []
  },
  {
   "cell_type": "code",
   "execution_count": null,
   "metadata": {
    "collapsed": true
   },
   "outputs": [],
   "source": []
  },
  {
   "cell_type": "code",
   "execution_count": null,
   "metadata": {
    "collapsed": true
   },
   "outputs": [],
   "source": []
  },
  {
   "cell_type": "code",
   "execution_count": null,
   "metadata": {
    "collapsed": true
   },
   "outputs": [],
   "source": []
  },
  {
   "cell_type": "code",
   "execution_count": null,
   "metadata": {
    "collapsed": true
   },
   "outputs": [],
   "source": []
  },
  {
   "cell_type": "code",
   "execution_count": null,
   "metadata": {
    "collapsed": true
   },
   "outputs": [],
   "source": []
  },
  {
   "cell_type": "code",
   "execution_count": null,
   "metadata": {
    "collapsed": true
   },
   "outputs": [],
   "source": []
  },
  {
   "cell_type": "code",
   "execution_count": null,
   "metadata": {
    "collapsed": true
   },
   "outputs": [],
   "source": []
  },
  {
   "cell_type": "code",
   "execution_count": null,
   "metadata": {
    "collapsed": true
   },
   "outputs": [],
   "source": []
  },
  {
   "cell_type": "code",
   "execution_count": null,
   "metadata": {
    "collapsed": true
   },
   "outputs": [],
   "source": []
  },
  {
   "cell_type": "code",
   "execution_count": null,
   "metadata": {
    "collapsed": true
   },
   "outputs": [],
   "source": []
  },
  {
   "cell_type": "code",
   "execution_count": null,
   "metadata": {
    "collapsed": true
   },
   "outputs": [],
   "source": []
  },
  {
   "cell_type": "code",
   "execution_count": null,
   "metadata": {
    "collapsed": true
   },
   "outputs": [],
   "source": []
  }
 ],
 "metadata": {
  "kernelspec": {
   "display_name": "Python 3",
   "language": "python",
   "name": "python3"
  },
  "language_info": {
   "codemirror_mode": {
    "name": "ipython",
    "version": 3
   },
   "file_extension": ".py",
   "mimetype": "text/x-python",
   "name": "python",
   "nbconvert_exporter": "python",
   "pygments_lexer": "ipython3",
   "version": "3.6.5"
  }
 },
 "nbformat": 4,
 "nbformat_minor": 2
}
