{
 "cells": [
  {
   "cell_type": "code",
   "execution_count": 1,
   "metadata": {},
   "outputs": [],
   "source": [
    "import pandas as pd\n",
    "import re\n",
    "import numpy as np\n",
    "df = pd.read_csv('comment.csv',encoding='cp932')\n",
    "list = []\n",
    "columns = []\n",
    "column_num = 1\n",
    "for review in df[\"0\"]:\n",
    "  context = review.replace('\\n','')\n",
    "  context = context.replace('\\r','')\n",
    "  context = [i for i in re.split('。',context) if i != '']\n",
    "  for comment in context:\n",
    "    list.append(comment)\n",
    "\n",
    "    if column_num <= 100:\n",
    "      columns.append(\"##{}##\".format(column_num))\n",
    "      column_num = column_num + 1\n",
    "new_list = []\n",
    "new_list.append(columns)\n",
    "while len(list) >= 1:\n",
    "  new_list.append(list[0:100])\n",
    "  del(list[0:100])\n",
    "\n",
    "new_list = np.array(new_list).reshape((1,4))\n",
    "\n",
    "for row in new_list[0]:\n",
    "  try:\n",
    "    df2 = df2.append(pd.DataFrame(row).T)\n",
    "  except NameError:\n",
    "    df2 = pd.DataFrame(row).T\n",
    "\n",
    "df2.to_csv('comment_cw.csv',header=False,index=False,encoding='cp932')\n"
   ]
  },
  {
   "cell_type": "code",
   "execution_count": null,
   "metadata": {},
   "outputs": [],
   "source": []
  },
  {
   "cell_type": "code",
   "execution_count": null,
   "metadata": {
    "collapsed": true
   },
   "outputs": [],
   "source": []
  }
 ],
 "metadata": {
  "kernelspec": {
   "display_name": "Python 3",
   "language": "python",
   "name": "python3"
  },
  "language_info": {
   "codemirror_mode": {
    "name": "ipython",
    "version": 3
   },
   "file_extension": ".py",
   "mimetype": "text/x-python",
   "name": "python",
   "nbconvert_exporter": "python",
   "pygments_lexer": "ipython3",
   "version": "3.6.5"
  }
 },
 "nbformat": 4,
 "nbformat_minor": 2
}
